{
  "nbformat": 4,
  "nbformat_minor": 0,
  "metadata": {
    "colab": {
      "provenance": [],
      "authorship_tag": "ABX9TyN5NmPT93Ciw7Ok3SZtff9w",
      "include_colab_link": true
    },
    "kernelspec": {
      "name": "python3",
      "display_name": "Python 3"
    },
    "language_info": {
      "name": "python"
    }
  },
  "cells": [
    {
      "cell_type": "markdown",
      "metadata": {
        "id": "view-in-github",
        "colab_type": "text"
      },
      "source": [
        "<a href=\"https://colab.research.google.com/github/olmagra/Alzheimer-s-Disease-and-Healthy-Aging-Data/blob/main/AlzheimerDiseaseHealthyAgingData.ipynb\" target=\"_parent\"><img src=\"https://colab.research.google.com/assets/colab-badge.svg\" alt=\"Open In Colab\"/></a>"
      ]
    },
    {
      "cell_type": "markdown",
      "source": [
        "# **Proyecto 2 | Alzheimer's Disease and Healthy Aging Data**"
      ],
      "metadata": {
        "id": "Q9ig_SU946WN"
      }
    },
    {
      "cell_type": "markdown",
      "source": [
        "Este data set es diferente al que había elegido inicialmente, pues se generó un error al subir la data probablemente por la gran cantidad de datos que tiene."
      ],
      "metadata": {
        "id": "Yd2ziiCO7I90"
      }
    },
    {
      "cell_type": "markdown",
      "source": [
        "https://www.kaggle.com/datasets/utkarshx27/alzheimers-disease-and-healthy-aging-data"
      ],
      "metadata": {
        "id": "7ZlZE4aX4_ZC"
      }
    },
    {
      "cell_type": "markdown",
      "source": [
        "**Descripción del data set:**\n",
        "Este conjunto de datos contiene datos sobre la enfermedad de Alzheimer y el envejecimiento saludable (2015-2021). La enfermedad de Alzheimer es un trastorno cerebral que destruye lentamente la memoria y las habilidades de pensamiento y, eventualmente, la capacidad de realizar las tareas más simples. En la mayoría de las personas con la enfermedad, aquellas con síntomas de aparición tardía aparecen por primera vez a mediados de los 60 años.\n",
        "Este conjunto de datos contiene datos de BRFSS. El Sistema de Vigilancia de Factores de Riesgo del Comportamiento (BRFSS) es el principal sistema de encuestas telefónicas relacionadas con la salud del país que recopila datos estatales sobre los residentes de EE. UU. con respecto a sus comportamientos de riesgo relacionados con la salud, condiciones de salud crónicas y uso de servicios preventivos."
      ],
      "metadata": {
        "id": "ag-CmiBX8Dj9"
      }
    },
    {
      "cell_type": "code",
      "source": [
        "# Importar las bibliotecas necesarias:\n",
        "import pandas as pd\n",
        "import numpy as np\n",
        "\n",
        "#=> Código tomado de notas de clase y lecciones Coding Dojo\n",
        "import matplotlib.pyplot as plt #Importar librería para gráficos Matplotlib\n",
        "import seaborn as sns #Importar librería para gráficos Seaborn"
      ],
      "metadata": {
        "id": "HxU-YfHf9F35"
      },
      "execution_count": 225,
      "outputs": []
    },
    {
      "cell_type": "markdown",
      "source": [
        "# **PASO 0: CARGAR LOS DATOS**"
      ],
      "metadata": {
        "id": "K1P7dw3y9fKK"
      }
    },
    {
      "cell_type": "code",
      "source": [
        "#=> Código tomado de notas de clase y lecciones\n",
        "#Activar Google Drive para poder cargar archivos de allí\n",
        "from google.colab import drive\n",
        "drive.mount('/content/drive')"
      ],
      "metadata": {
        "colab": {
          "base_uri": "https://localhost:8080/"
        },
        "id": "cvUize6T972m",
        "outputId": "3fe3e28d-21c9-4ed2-be7c-88a0ebd53208"
      },
      "execution_count": 226,
      "outputs": [
        {
          "output_type": "stream",
          "name": "stdout",
          "text": [
            "Drive already mounted at /content/drive; to attempt to forcibly remount, call drive.mount(\"/content/drive\", force_remount=True).\n"
          ]
        }
      ]
    },
    {
      "cell_type": "code",
      "source": [
        "# => Código tomado de notas de clase y ejercicios\n",
        "#Cargo el archivo de datos en Drive (código tomado de notas de clase y ejercicios)\n",
        "#Creo el DataFrame con el archivo de Excel cargado:\n",
        "df = pd.read_csv('/content/Alzheimer_s_Disease_and_Healthy_Aging_Data.csv')\n",
        "df.head(3)"
      ],
      "metadata": {
        "colab": {
          "base_uri": "https://localhost:8080/",
          "height": 480
        },
        "id": "Bj8OW7RB-Bi0",
        "outputId": "434b8137-0056-4548-9c9d-3bde3847ff55"
      },
      "execution_count": 227,
      "outputs": [
        {
          "output_type": "stream",
          "name": "stderr",
          "text": [
            "<ipython-input-227-e85187bb7ebd>:4: DtypeWarning: Columns (17,18) have mixed types. Specify dtype option on import or set low_memory=False.\n",
            "  df = pd.read_csv('/content/Alzheimer_s_Disease_and_Healthy_Aging_Data.csv')\n"
          ]
        },
        {
          "output_type": "execute_result",
          "data": {
            "text/plain": [
              "   RowId  YearStart  YearEnd LocationAbbr LocationDesc Datasource  \\\n",
              "0    NaN       2021     2021         WEST         West      BRFSS   \n",
              "1    NaN       2021     2021          NRE    Northeast      BRFSS   \n",
              "2    NaN       2021     2021          MDW      Midwest      BRFSS   \n",
              "\n",
              "                                 Class                              Topic  \\\n",
              "0  Nutrition/Physical Activity/Obesity      Eating 2 or more fruits daily   \n",
              "1  Nutrition/Physical Activity/Obesity  Eating 3 or more vegetables daily   \n",
              "2                        Mental Health           Frequent mental distress   \n",
              "\n",
              "                                            Question  Response  ...  \\\n",
              "0  Percentage of older adults who are eating 2 or...       NaN  ...   \n",
              "1  Percentage of older adults who are eating 3 or...       NaN  ...   \n",
              "2  Percentage of older adults who are experiencin...       NaN  ...   \n",
              "\n",
              "  QuestionID ResponseID LocationID  StratificationCategoryID1  \\\n",
              "0        Q01        NaN       9004                        AGE   \n",
              "1        Q02        NaN       9001                        AGE   \n",
              "2        Q03        NaN       9002                        AGE   \n",
              "\n",
              "   StratificationID1 StratificationCategoryID2 StratificationID2  \\\n",
              "0               5064                   OVERALL           OVERALL   \n",
              "1               5064                   OVERALL           OVERALL   \n",
              "2               5064                      RACE               BLK   \n",
              "\n",
              "  StratificationCategoryID3 StratificationID3  Report  \n",
              "0                       NaN               NaN     NaN  \n",
              "1                       NaN               NaN     NaN  \n",
              "2                       NaN               NaN     NaN  \n",
              "\n",
              "[3 rows x 39 columns]"
            ],
            "text/html": [
              "\n",
              "  <div id=\"df-a8f13d09-9210-416d-bfec-d192a3b53b55\">\n",
              "    <div class=\"colab-df-container\">\n",
              "      <div>\n",
              "<style scoped>\n",
              "    .dataframe tbody tr th:only-of-type {\n",
              "        vertical-align: middle;\n",
              "    }\n",
              "\n",
              "    .dataframe tbody tr th {\n",
              "        vertical-align: top;\n",
              "    }\n",
              "\n",
              "    .dataframe thead th {\n",
              "        text-align: right;\n",
              "    }\n",
              "</style>\n",
              "<table border=\"1\" class=\"dataframe\">\n",
              "  <thead>\n",
              "    <tr style=\"text-align: right;\">\n",
              "      <th></th>\n",
              "      <th>RowId</th>\n",
              "      <th>YearStart</th>\n",
              "      <th>YearEnd</th>\n",
              "      <th>LocationAbbr</th>\n",
              "      <th>LocationDesc</th>\n",
              "      <th>Datasource</th>\n",
              "      <th>Class</th>\n",
              "      <th>Topic</th>\n",
              "      <th>Question</th>\n",
              "      <th>Response</th>\n",
              "      <th>...</th>\n",
              "      <th>QuestionID</th>\n",
              "      <th>ResponseID</th>\n",
              "      <th>LocationID</th>\n",
              "      <th>StratificationCategoryID1</th>\n",
              "      <th>StratificationID1</th>\n",
              "      <th>StratificationCategoryID2</th>\n",
              "      <th>StratificationID2</th>\n",
              "      <th>StratificationCategoryID3</th>\n",
              "      <th>StratificationID3</th>\n",
              "      <th>Report</th>\n",
              "    </tr>\n",
              "  </thead>\n",
              "  <tbody>\n",
              "    <tr>\n",
              "      <th>0</th>\n",
              "      <td>NaN</td>\n",
              "      <td>2021</td>\n",
              "      <td>2021</td>\n",
              "      <td>WEST</td>\n",
              "      <td>West</td>\n",
              "      <td>BRFSS</td>\n",
              "      <td>Nutrition/Physical Activity/Obesity</td>\n",
              "      <td>Eating 2 or more fruits daily</td>\n",
              "      <td>Percentage of older adults who are eating 2 or...</td>\n",
              "      <td>NaN</td>\n",
              "      <td>...</td>\n",
              "      <td>Q01</td>\n",
              "      <td>NaN</td>\n",
              "      <td>9004</td>\n",
              "      <td>AGE</td>\n",
              "      <td>5064</td>\n",
              "      <td>OVERALL</td>\n",
              "      <td>OVERALL</td>\n",
              "      <td>NaN</td>\n",
              "      <td>NaN</td>\n",
              "      <td>NaN</td>\n",
              "    </tr>\n",
              "    <tr>\n",
              "      <th>1</th>\n",
              "      <td>NaN</td>\n",
              "      <td>2021</td>\n",
              "      <td>2021</td>\n",
              "      <td>NRE</td>\n",
              "      <td>Northeast</td>\n",
              "      <td>BRFSS</td>\n",
              "      <td>Nutrition/Physical Activity/Obesity</td>\n",
              "      <td>Eating 3 or more vegetables daily</td>\n",
              "      <td>Percentage of older adults who are eating 3 or...</td>\n",
              "      <td>NaN</td>\n",
              "      <td>...</td>\n",
              "      <td>Q02</td>\n",
              "      <td>NaN</td>\n",
              "      <td>9001</td>\n",
              "      <td>AGE</td>\n",
              "      <td>5064</td>\n",
              "      <td>OVERALL</td>\n",
              "      <td>OVERALL</td>\n",
              "      <td>NaN</td>\n",
              "      <td>NaN</td>\n",
              "      <td>NaN</td>\n",
              "    </tr>\n",
              "    <tr>\n",
              "      <th>2</th>\n",
              "      <td>NaN</td>\n",
              "      <td>2021</td>\n",
              "      <td>2021</td>\n",
              "      <td>MDW</td>\n",
              "      <td>Midwest</td>\n",
              "      <td>BRFSS</td>\n",
              "      <td>Mental Health</td>\n",
              "      <td>Frequent mental distress</td>\n",
              "      <td>Percentage of older adults who are experiencin...</td>\n",
              "      <td>NaN</td>\n",
              "      <td>...</td>\n",
              "      <td>Q03</td>\n",
              "      <td>NaN</td>\n",
              "      <td>9002</td>\n",
              "      <td>AGE</td>\n",
              "      <td>5064</td>\n",
              "      <td>RACE</td>\n",
              "      <td>BLK</td>\n",
              "      <td>NaN</td>\n",
              "      <td>NaN</td>\n",
              "      <td>NaN</td>\n",
              "    </tr>\n",
              "  </tbody>\n",
              "</table>\n",
              "<p>3 rows × 39 columns</p>\n",
              "</div>\n",
              "      <button class=\"colab-df-convert\" onclick=\"convertToInteractive('df-a8f13d09-9210-416d-bfec-d192a3b53b55')\"\n",
              "              title=\"Convert this dataframe to an interactive table.\"\n",
              "              style=\"display:none;\">\n",
              "        \n",
              "  <svg xmlns=\"http://www.w3.org/2000/svg\" height=\"24px\"viewBox=\"0 0 24 24\"\n",
              "       width=\"24px\">\n",
              "    <path d=\"M0 0h24v24H0V0z\" fill=\"none\"/>\n",
              "    <path d=\"M18.56 5.44l.94 2.06.94-2.06 2.06-.94-2.06-.94-.94-2.06-.94 2.06-2.06.94zm-11 1L8.5 8.5l.94-2.06 2.06-.94-2.06-.94L8.5 2.5l-.94 2.06-2.06.94zm10 10l.94 2.06.94-2.06 2.06-.94-2.06-.94-.94-2.06-.94 2.06-2.06.94z\"/><path d=\"M17.41 7.96l-1.37-1.37c-.4-.4-.92-.59-1.43-.59-.52 0-1.04.2-1.43.59L10.3 9.45l-7.72 7.72c-.78.78-.78 2.05 0 2.83L4 21.41c.39.39.9.59 1.41.59.51 0 1.02-.2 1.41-.59l7.78-7.78 2.81-2.81c.8-.78.8-2.07 0-2.86zM5.41 20L4 18.59l7.72-7.72 1.47 1.35L5.41 20z\"/>\n",
              "  </svg>\n",
              "      </button>\n",
              "      \n",
              "  <style>\n",
              "    .colab-df-container {\n",
              "      display:flex;\n",
              "      flex-wrap:wrap;\n",
              "      gap: 12px;\n",
              "    }\n",
              "\n",
              "    .colab-df-convert {\n",
              "      background-color: #E8F0FE;\n",
              "      border: none;\n",
              "      border-radius: 50%;\n",
              "      cursor: pointer;\n",
              "      display: none;\n",
              "      fill: #1967D2;\n",
              "      height: 32px;\n",
              "      padding: 0 0 0 0;\n",
              "      width: 32px;\n",
              "    }\n",
              "\n",
              "    .colab-df-convert:hover {\n",
              "      background-color: #E2EBFA;\n",
              "      box-shadow: 0px 1px 2px rgba(60, 64, 67, 0.3), 0px 1px 3px 1px rgba(60, 64, 67, 0.15);\n",
              "      fill: #174EA6;\n",
              "    }\n",
              "\n",
              "    [theme=dark] .colab-df-convert {\n",
              "      background-color: #3B4455;\n",
              "      fill: #D2E3FC;\n",
              "    }\n",
              "\n",
              "    [theme=dark] .colab-df-convert:hover {\n",
              "      background-color: #434B5C;\n",
              "      box-shadow: 0px 1px 3px 1px rgba(0, 0, 0, 0.15);\n",
              "      filter: drop-shadow(0px 1px 2px rgba(0, 0, 0, 0.3));\n",
              "      fill: #FFFFFF;\n",
              "    }\n",
              "  </style>\n",
              "\n",
              "      <script>\n",
              "        const buttonEl =\n",
              "          document.querySelector('#df-a8f13d09-9210-416d-bfec-d192a3b53b55 button.colab-df-convert');\n",
              "        buttonEl.style.display =\n",
              "          google.colab.kernel.accessAllowed ? 'block' : 'none';\n",
              "\n",
              "        async function convertToInteractive(key) {\n",
              "          const element = document.querySelector('#df-a8f13d09-9210-416d-bfec-d192a3b53b55');\n",
              "          const dataTable =\n",
              "            await google.colab.kernel.invokeFunction('convertToInteractive',\n",
              "                                                     [key], {});\n",
              "          if (!dataTable) return;\n",
              "\n",
              "          const docLinkHtml = 'Like what you see? Visit the ' +\n",
              "            '<a target=\"_blank\" href=https://colab.research.google.com/notebooks/data_table.ipynb>data table notebook</a>'\n",
              "            + ' to learn more about interactive tables.';\n",
              "          element.innerHTML = '';\n",
              "          dataTable['output_type'] = 'display_data';\n",
              "          await google.colab.output.renderOutput(dataTable, element);\n",
              "          const docLink = document.createElement('div');\n",
              "          docLink.innerHTML = docLinkHtml;\n",
              "          element.appendChild(docLink);\n",
              "        }\n",
              "      </script>\n",
              "    </div>\n",
              "  </div>\n",
              "  "
            ]
          },
          "metadata": {},
          "execution_count": 227
        }
      ]
    },
    {
      "cell_type": "markdown",
      "source": [
        "# **PASO 1: EXPLORAR LOS DATOS**"
      ],
      "metadata": {
        "id": "Wu_4KpAn_I0c"
      }
    },
    {
      "cell_type": "code",
      "source": [
        "df.info() # Información del DataFrame"
      ],
      "metadata": {
        "colab": {
          "base_uri": "https://localhost:8080/"
        },
        "id": "e4EZbT6P_M8k",
        "outputId": "31e78e25-e9a3-496c-e20b-fd56d17f2846"
      },
      "execution_count": 228,
      "outputs": [
        {
          "output_type": "stream",
          "name": "stdout",
          "text": [
            "<class 'pandas.core.frame.DataFrame'>\n",
            "RangeIndex: 250937 entries, 0 to 250936\n",
            "Data columns (total 39 columns):\n",
            " #   Column                      Non-Null Count   Dtype  \n",
            "---  ------                      --------------   -----  \n",
            " 0   RowId                       0 non-null       float64\n",
            " 1   YearStart                   250937 non-null  int64  \n",
            " 2   YearEnd                     250937 non-null  int64  \n",
            " 3   LocationAbbr                250937 non-null  object \n",
            " 4   LocationDesc                250937 non-null  object \n",
            " 5   Datasource                  250937 non-null  object \n",
            " 6   Class                       250937 non-null  object \n",
            " 7   Topic                       250937 non-null  object \n",
            " 8   Question                    250937 non-null  object \n",
            " 9   Response                    0 non-null       float64\n",
            " 10  Data_Value_Unit             250937 non-null  object \n",
            " 11  DataValueTypeID             250937 non-null  object \n",
            " 12  Data_Value_Type             250937 non-null  object \n",
            " 13  Data_Value                  169302 non-null  float64\n",
            " 14  Data_Value_Alt              169302 non-null  float64\n",
            " 15  Data_Value_Footnote_Symbol  99114 non-null   object \n",
            " 16  Data_Value_Footnote         99114 non-null   object \n",
            " 17  Low_Confidence_Limit        169152 non-null  object \n",
            " 18  High_Confidence_Limit       169152 non-null  object \n",
            " 19  Sample_Size                 0 non-null       float64\n",
            " 20  StratificationCategory1     250937 non-null  object \n",
            " 21  Stratification1             250937 non-null  object \n",
            " 22  StratificationCategory2     218561 non-null  object \n",
            " 23  Stratification2             218561 non-null  object \n",
            " 24  StratificationCategory3     0 non-null       float64\n",
            " 25  Stratification3             0 non-null       float64\n",
            " 26  Geolocation                 224228 non-null  object \n",
            " 27  ClassID                     250937 non-null  object \n",
            " 28  TopicID                     250937 non-null  object \n",
            " 29  QuestionID                  250937 non-null  object \n",
            " 30  ResponseID                  0 non-null       float64\n",
            " 31  LocationID                  250937 non-null  int64  \n",
            " 32  StratificationCategoryID1   250937 non-null  object \n",
            " 33  StratificationID1           250937 non-null  object \n",
            " 34  StratificationCategoryID2   250937 non-null  object \n",
            " 35  StratificationID2           250937 non-null  object \n",
            " 36  StratificationCategoryID3   0 non-null       float64\n",
            " 37  StratificationID3           0 non-null       float64\n",
            " 38  Report                      0 non-null       float64\n",
            "dtypes: float64(11), int64(3), object(25)\n",
            "memory usage: 74.7+ MB\n"
          ]
        }
      ]
    },
    {
      "cell_type": "code",
      "source": [
        "df.shape # Identificar cuántas registros y cuántas columnas tiene el data set"
      ],
      "metadata": {
        "colab": {
          "base_uri": "https://localhost:8080/"
        },
        "id": "L8UPxMJ1_kze",
        "outputId": "6c052845-32f3-4df9-88be-e8e9e93d7395"
      },
      "execution_count": 229,
      "outputs": [
        {
          "output_type": "execute_result",
          "data": {
            "text/plain": [
              "(250937, 39)"
            ]
          },
          "metadata": {},
          "execution_count": 229
        }
      ]
    },
    {
      "cell_type": "code",
      "source": [
        "df.describe() #Principales indicadores estadísticos del data set"
      ],
      "metadata": {
        "colab": {
          "base_uri": "https://localhost:8080/",
          "height": 364
        },
        "id": "hF3QCBLe_ouL",
        "outputId": "4d58c96b-e28c-4037-c017-5f86546fc401"
      },
      "execution_count": 230,
      "outputs": [
        {
          "output_type": "execute_result",
          "data": {
            "text/plain": [
              "       RowId      YearStart        YearEnd  Response     Data_Value  \\\n",
              "count    0.0  250937.000000  250937.000000       0.0  169302.000000   \n",
              "mean     NaN    2017.940933    2018.169716       NaN      37.328349   \n",
              "std      NaN       2.031564       2.081039       NaN      25.213181   \n",
              "min      NaN    2015.000000    2015.000000       NaN       0.000000   \n",
              "25%      NaN    2016.000000    2016.000000       NaN      15.700000   \n",
              "50%      NaN    2018.000000    2018.000000       NaN      32.300000   \n",
              "75%      NaN    2020.000000    2020.000000       NaN      56.000000   \n",
              "max      NaN    2021.000000    2021.000000       NaN     100.000000   \n",
              "\n",
              "       Data_Value_Alt  Sample_Size  StratificationCategory3  Stratification3  \\\n",
              "count   169302.000000          0.0                      0.0              0.0   \n",
              "mean        37.328349          NaN                      NaN              NaN   \n",
              "std         25.213181          NaN                      NaN              NaN   \n",
              "min          0.000000          NaN                      NaN              NaN   \n",
              "25%         15.700000          NaN                      NaN              NaN   \n",
              "50%         32.300000          NaN                      NaN              NaN   \n",
              "75%         56.000000          NaN                      NaN              NaN   \n",
              "max        100.000000          NaN                      NaN              NaN   \n",
              "\n",
              "       ResponseID     LocationID  StratificationCategoryID3  \\\n",
              "count         0.0  250937.000000                        0.0   \n",
              "mean          NaN     793.866437                        NaN   \n",
              "std           NaN    2502.174327                        NaN   \n",
              "min           NaN       1.000000                        NaN   \n",
              "25%           NaN      19.000000                        NaN   \n",
              "50%           NaN      34.000000                        NaN   \n",
              "75%           NaN      49.000000                        NaN   \n",
              "max           NaN    9004.000000                        NaN   \n",
              "\n",
              "       StratificationID3  Report  \n",
              "count                0.0     0.0  \n",
              "mean                 NaN     NaN  \n",
              "std                  NaN     NaN  \n",
              "min                  NaN     NaN  \n",
              "25%                  NaN     NaN  \n",
              "50%                  NaN     NaN  \n",
              "75%                  NaN     NaN  \n",
              "max                  NaN     NaN  "
            ],
            "text/html": [
              "\n",
              "  <div id=\"df-7a26e076-d536-410f-b6a2-33d6cdb34656\">\n",
              "    <div class=\"colab-df-container\">\n",
              "      <div>\n",
              "<style scoped>\n",
              "    .dataframe tbody tr th:only-of-type {\n",
              "        vertical-align: middle;\n",
              "    }\n",
              "\n",
              "    .dataframe tbody tr th {\n",
              "        vertical-align: top;\n",
              "    }\n",
              "\n",
              "    .dataframe thead th {\n",
              "        text-align: right;\n",
              "    }\n",
              "</style>\n",
              "<table border=\"1\" class=\"dataframe\">\n",
              "  <thead>\n",
              "    <tr style=\"text-align: right;\">\n",
              "      <th></th>\n",
              "      <th>RowId</th>\n",
              "      <th>YearStart</th>\n",
              "      <th>YearEnd</th>\n",
              "      <th>Response</th>\n",
              "      <th>Data_Value</th>\n",
              "      <th>Data_Value_Alt</th>\n",
              "      <th>Sample_Size</th>\n",
              "      <th>StratificationCategory3</th>\n",
              "      <th>Stratification3</th>\n",
              "      <th>ResponseID</th>\n",
              "      <th>LocationID</th>\n",
              "      <th>StratificationCategoryID3</th>\n",
              "      <th>StratificationID3</th>\n",
              "      <th>Report</th>\n",
              "    </tr>\n",
              "  </thead>\n",
              "  <tbody>\n",
              "    <tr>\n",
              "      <th>count</th>\n",
              "      <td>0.0</td>\n",
              "      <td>250937.000000</td>\n",
              "      <td>250937.000000</td>\n",
              "      <td>0.0</td>\n",
              "      <td>169302.000000</td>\n",
              "      <td>169302.000000</td>\n",
              "      <td>0.0</td>\n",
              "      <td>0.0</td>\n",
              "      <td>0.0</td>\n",
              "      <td>0.0</td>\n",
              "      <td>250937.000000</td>\n",
              "      <td>0.0</td>\n",
              "      <td>0.0</td>\n",
              "      <td>0.0</td>\n",
              "    </tr>\n",
              "    <tr>\n",
              "      <th>mean</th>\n",
              "      <td>NaN</td>\n",
              "      <td>2017.940933</td>\n",
              "      <td>2018.169716</td>\n",
              "      <td>NaN</td>\n",
              "      <td>37.328349</td>\n",
              "      <td>37.328349</td>\n",
              "      <td>NaN</td>\n",
              "      <td>NaN</td>\n",
              "      <td>NaN</td>\n",
              "      <td>NaN</td>\n",
              "      <td>793.866437</td>\n",
              "      <td>NaN</td>\n",
              "      <td>NaN</td>\n",
              "      <td>NaN</td>\n",
              "    </tr>\n",
              "    <tr>\n",
              "      <th>std</th>\n",
              "      <td>NaN</td>\n",
              "      <td>2.031564</td>\n",
              "      <td>2.081039</td>\n",
              "      <td>NaN</td>\n",
              "      <td>25.213181</td>\n",
              "      <td>25.213181</td>\n",
              "      <td>NaN</td>\n",
              "      <td>NaN</td>\n",
              "      <td>NaN</td>\n",
              "      <td>NaN</td>\n",
              "      <td>2502.174327</td>\n",
              "      <td>NaN</td>\n",
              "      <td>NaN</td>\n",
              "      <td>NaN</td>\n",
              "    </tr>\n",
              "    <tr>\n",
              "      <th>min</th>\n",
              "      <td>NaN</td>\n",
              "      <td>2015.000000</td>\n",
              "      <td>2015.000000</td>\n",
              "      <td>NaN</td>\n",
              "      <td>0.000000</td>\n",
              "      <td>0.000000</td>\n",
              "      <td>NaN</td>\n",
              "      <td>NaN</td>\n",
              "      <td>NaN</td>\n",
              "      <td>NaN</td>\n",
              "      <td>1.000000</td>\n",
              "      <td>NaN</td>\n",
              "      <td>NaN</td>\n",
              "      <td>NaN</td>\n",
              "    </tr>\n",
              "    <tr>\n",
              "      <th>25%</th>\n",
              "      <td>NaN</td>\n",
              "      <td>2016.000000</td>\n",
              "      <td>2016.000000</td>\n",
              "      <td>NaN</td>\n",
              "      <td>15.700000</td>\n",
              "      <td>15.700000</td>\n",
              "      <td>NaN</td>\n",
              "      <td>NaN</td>\n",
              "      <td>NaN</td>\n",
              "      <td>NaN</td>\n",
              "      <td>19.000000</td>\n",
              "      <td>NaN</td>\n",
              "      <td>NaN</td>\n",
              "      <td>NaN</td>\n",
              "    </tr>\n",
              "    <tr>\n",
              "      <th>50%</th>\n",
              "      <td>NaN</td>\n",
              "      <td>2018.000000</td>\n",
              "      <td>2018.000000</td>\n",
              "      <td>NaN</td>\n",
              "      <td>32.300000</td>\n",
              "      <td>32.300000</td>\n",
              "      <td>NaN</td>\n",
              "      <td>NaN</td>\n",
              "      <td>NaN</td>\n",
              "      <td>NaN</td>\n",
              "      <td>34.000000</td>\n",
              "      <td>NaN</td>\n",
              "      <td>NaN</td>\n",
              "      <td>NaN</td>\n",
              "    </tr>\n",
              "    <tr>\n",
              "      <th>75%</th>\n",
              "      <td>NaN</td>\n",
              "      <td>2020.000000</td>\n",
              "      <td>2020.000000</td>\n",
              "      <td>NaN</td>\n",
              "      <td>56.000000</td>\n",
              "      <td>56.000000</td>\n",
              "      <td>NaN</td>\n",
              "      <td>NaN</td>\n",
              "      <td>NaN</td>\n",
              "      <td>NaN</td>\n",
              "      <td>49.000000</td>\n",
              "      <td>NaN</td>\n",
              "      <td>NaN</td>\n",
              "      <td>NaN</td>\n",
              "    </tr>\n",
              "    <tr>\n",
              "      <th>max</th>\n",
              "      <td>NaN</td>\n",
              "      <td>2021.000000</td>\n",
              "      <td>2021.000000</td>\n",
              "      <td>NaN</td>\n",
              "      <td>100.000000</td>\n",
              "      <td>100.000000</td>\n",
              "      <td>NaN</td>\n",
              "      <td>NaN</td>\n",
              "      <td>NaN</td>\n",
              "      <td>NaN</td>\n",
              "      <td>9004.000000</td>\n",
              "      <td>NaN</td>\n",
              "      <td>NaN</td>\n",
              "      <td>NaN</td>\n",
              "    </tr>\n",
              "  </tbody>\n",
              "</table>\n",
              "</div>\n",
              "      <button class=\"colab-df-convert\" onclick=\"convertToInteractive('df-7a26e076-d536-410f-b6a2-33d6cdb34656')\"\n",
              "              title=\"Convert this dataframe to an interactive table.\"\n",
              "              style=\"display:none;\">\n",
              "        \n",
              "  <svg xmlns=\"http://www.w3.org/2000/svg\" height=\"24px\"viewBox=\"0 0 24 24\"\n",
              "       width=\"24px\">\n",
              "    <path d=\"M0 0h24v24H0V0z\" fill=\"none\"/>\n",
              "    <path d=\"M18.56 5.44l.94 2.06.94-2.06 2.06-.94-2.06-.94-.94-2.06-.94 2.06-2.06.94zm-11 1L8.5 8.5l.94-2.06 2.06-.94-2.06-.94L8.5 2.5l-.94 2.06-2.06.94zm10 10l.94 2.06.94-2.06 2.06-.94-2.06-.94-.94-2.06-.94 2.06-2.06.94z\"/><path d=\"M17.41 7.96l-1.37-1.37c-.4-.4-.92-.59-1.43-.59-.52 0-1.04.2-1.43.59L10.3 9.45l-7.72 7.72c-.78.78-.78 2.05 0 2.83L4 21.41c.39.39.9.59 1.41.59.51 0 1.02-.2 1.41-.59l7.78-7.78 2.81-2.81c.8-.78.8-2.07 0-2.86zM5.41 20L4 18.59l7.72-7.72 1.47 1.35L5.41 20z\"/>\n",
              "  </svg>\n",
              "      </button>\n",
              "      \n",
              "  <style>\n",
              "    .colab-df-container {\n",
              "      display:flex;\n",
              "      flex-wrap:wrap;\n",
              "      gap: 12px;\n",
              "    }\n",
              "\n",
              "    .colab-df-convert {\n",
              "      background-color: #E8F0FE;\n",
              "      border: none;\n",
              "      border-radius: 50%;\n",
              "      cursor: pointer;\n",
              "      display: none;\n",
              "      fill: #1967D2;\n",
              "      height: 32px;\n",
              "      padding: 0 0 0 0;\n",
              "      width: 32px;\n",
              "    }\n",
              "\n",
              "    .colab-df-convert:hover {\n",
              "      background-color: #E2EBFA;\n",
              "      box-shadow: 0px 1px 2px rgba(60, 64, 67, 0.3), 0px 1px 3px 1px rgba(60, 64, 67, 0.15);\n",
              "      fill: #174EA6;\n",
              "    }\n",
              "\n",
              "    [theme=dark] .colab-df-convert {\n",
              "      background-color: #3B4455;\n",
              "      fill: #D2E3FC;\n",
              "    }\n",
              "\n",
              "    [theme=dark] .colab-df-convert:hover {\n",
              "      background-color: #434B5C;\n",
              "      box-shadow: 0px 1px 3px 1px rgba(0, 0, 0, 0.15);\n",
              "      filter: drop-shadow(0px 1px 2px rgba(0, 0, 0, 0.3));\n",
              "      fill: #FFFFFF;\n",
              "    }\n",
              "  </style>\n",
              "\n",
              "      <script>\n",
              "        const buttonEl =\n",
              "          document.querySelector('#df-7a26e076-d536-410f-b6a2-33d6cdb34656 button.colab-df-convert');\n",
              "        buttonEl.style.display =\n",
              "          google.colab.kernel.accessAllowed ? 'block' : 'none';\n",
              "\n",
              "        async function convertToInteractive(key) {\n",
              "          const element = document.querySelector('#df-7a26e076-d536-410f-b6a2-33d6cdb34656');\n",
              "          const dataTable =\n",
              "            await google.colab.kernel.invokeFunction('convertToInteractive',\n",
              "                                                     [key], {});\n",
              "          if (!dataTable) return;\n",
              "\n",
              "          const docLinkHtml = 'Like what you see? Visit the ' +\n",
              "            '<a target=\"_blank\" href=https://colab.research.google.com/notebooks/data_table.ipynb>data table notebook</a>'\n",
              "            + ' to learn more about interactive tables.';\n",
              "          element.innerHTML = '';\n",
              "          dataTable['output_type'] = 'display_data';\n",
              "          await google.colab.output.renderOutput(dataTable, element);\n",
              "          const docLink = document.createElement('div');\n",
              "          docLink.innerHTML = docLinkHtml;\n",
              "          element.appendChild(docLink);\n",
              "        }\n",
              "      </script>\n",
              "    </div>\n",
              "  </div>\n",
              "  "
            ]
          },
          "metadata": {},
          "execution_count": 230
        }
      ]
    },
    {
      "cell_type": "code",
      "source": [
        "df.nunique() # Calcular el número de valores únicos por columna"
      ],
      "metadata": {
        "colab": {
          "base_uri": "https://localhost:8080/"
        },
        "id": "TBdNd48U_0-J",
        "outputId": "800afe72-388b-4511-f61d-782007082056"
      },
      "execution_count": 231,
      "outputs": [
        {
          "output_type": "execute_result",
          "data": {
            "text/plain": [
              "RowId                            0\n",
              "YearStart                        7\n",
              "YearEnd                          7\n",
              "LocationAbbr                    59\n",
              "LocationDesc                    59\n",
              "Datasource                       1\n",
              "Class                            7\n",
              "Topic                           39\n",
              "Question                        39\n",
              "Response                         0\n",
              "Data_Value_Unit                  2\n",
              "DataValueTypeID                  2\n",
              "Data_Value_Type                  2\n",
              "Data_Value                    1000\n",
              "Data_Value_Alt                1000\n",
              "Data_Value_Footnote_Symbol       5\n",
              "Data_Value_Footnote              5\n",
              "Low_Confidence_Limit          1976\n",
              "High_Confidence_Limit         1967\n",
              "Sample_Size                      0\n",
              "StratificationCategory1          1\n",
              "Stratification1                  3\n",
              "StratificationCategory2          2\n",
              "Stratification2                  7\n",
              "StratificationCategory3          0\n",
              "Stratification3                  0\n",
              "Geolocation                     54\n",
              "ClassID                          7\n",
              "TopicID                         39\n",
              "QuestionID                      39\n",
              "ResponseID                       0\n",
              "LocationID                      59\n",
              "StratificationCategoryID1        1\n",
              "StratificationID1                3\n",
              "StratificationCategoryID2        3\n",
              "StratificationID2                8\n",
              "StratificationCategoryID3        0\n",
              "StratificationID3                0\n",
              "Report                           0\n",
              "dtype: int64"
            ]
          },
          "metadata": {},
          "execution_count": 231
        }
      ]
    },
    {
      "cell_type": "code",
      "source": [
        "#=> Código tomado de https://www.kaggle.com/code/harshghadiya/clustering-on-wine-quality-3-different-clusters\n",
        "# Visualizar los datos de cada variables\n",
        "plt.rcParams[\"figure.figsize\"] = (20, 20)\n",
        "df.hist(bins=20)\n",
        "plt.show()"
      ],
      "metadata": {
        "colab": {
          "base_uri": "https://localhost:8080/",
          "height": 1000
        },
        "id": "8kW7F9iKAaM7",
        "outputId": "a5b4996a-befa-4d8f-912d-38324049836f"
      },
      "execution_count": 232,
      "outputs": [
        {
          "output_type": "display_data",
          "data": {
            "text/plain": [
              "<Figure size 2000x2000 with 16 Axes>"
            ],
            "image/png": "[encoded data removed]"
          },
          "metadata": {}
        }
      ]
    },
    {
      "cell_type": "code",
      "source": [
        "# Mapa de color para ver las correlaciones:\n",
        "plt.figure(figsize=(12,8))\n",
        "ax = sns.heatmap(df.corr(), annot=True)\n",
        "plt.show();"
      ],
      "metadata": {
        "colab": {
          "base_uri": "https://localhost:8080/",
          "height": 900
        },
        "id": "JBRzHogGAi8V",
        "outputId": "2859c38b-c275-4efa-be92-4e21e5847d68"
      },
      "execution_count": 233,
      "outputs": [
        {
          "output_type": "stream",
          "name": "stderr",
          "text": [
            "<ipython-input-233-f4c12090a8af>:3: FutureWarning: The default value of numeric_only in DataFrame.corr is deprecated. In a future version, it will default to False. Select only valid columns or specify the value of numeric_only to silence this warning.\n",
            "  ax = sns.heatmap(df.corr(), annot=True)\n"
          ]
        },
        {
          "output_type": "display_data",
          "data": {
            "text/plain": [
              "<Figure size 1200x800 with 2 Axes>"
            ],
            "image/png": "[encoded data removed]"
          },
          "metadata": {}
        }
      ]
    },
    {
      "cell_type": "markdown",
      "source": [
        "# **PASO 2: LIMPIAR Y TRATAR LOS DATOS**"
      ],
      "metadata": {
        "id": "eDekR6mgAr_R"
      }
    },
    {
      "cell_type": "code",
      "source": [
        "df.isnull().sum() #Identificar si hay nulos"
      ],
      "metadata": {
        "colab": {
          "base_uri": "https://localhost:8080/"
        },
        "id": "1paTgUurAr0m",
        "outputId": "a0a6bc2a-d8a6-43fb-9017-87e9a027d4ad"
      },
      "execution_count": 234,
      "outputs": [
        {
          "output_type": "execute_result",
          "data": {
            "text/plain": [
              "RowId                         250937\n",
              "YearStart                          0\n",
              "YearEnd                            0\n",
              "LocationAbbr                       0\n",
              "LocationDesc                       0\n",
              "Datasource                         0\n",
              "Class                              0\n",
              "Topic                              0\n",
              "Question                           0\n",
              "Response                      250937\n",
              "Data_Value_Unit                    0\n",
              "DataValueTypeID                    0\n",
              "Data_Value_Type                    0\n",
              "Data_Value                     81635\n",
              "Data_Value_Alt                 81635\n",
              "Data_Value_Footnote_Symbol    151823\n",
              "Data_Value_Footnote           151823\n",
              "Low_Confidence_Limit           81785\n",
              "High_Confidence_Limit          81785\n",
              "Sample_Size                   250937\n",
              "StratificationCategory1            0\n",
              "Stratification1                    0\n",
              "StratificationCategory2        32376\n",
              "Stratification2                32376\n",
              "StratificationCategory3       250937\n",
              "Stratification3               250937\n",
              "Geolocation                    26709\n",
              "ClassID                            0\n",
              "TopicID                            0\n",
              "QuestionID                         0\n",
              "ResponseID                    250937\n",
              "LocationID                         0\n",
              "StratificationCategoryID1          0\n",
              "StratificationID1                  0\n",
              "StratificationCategoryID2          0\n",
              "StratificationID2                  0\n",
              "StratificationCategoryID3     250937\n",
              "StratificationID3             250937\n",
              "Report                        250937\n",
              "dtype: int64"
            ]
          },
          "metadata": {},
          "execution_count": 234
        }
      ]
    },
    {
      "cell_type": "code",
      "source": [
        "df.duplicated().sum() #Cuenta los duplicados: No hay!"
      ],
      "metadata": {
        "colab": {
          "base_uri": "https://localhost:8080/"
        },
        "id": "2wRPzyOAB1jw",
        "outputId": "cd8c483d-0388-4b39-cb1c-40697a6b897e"
      },
      "execution_count": 235,
      "outputs": [
        {
          "output_type": "execute_result",
          "data": {
            "text/plain": [
              "0"
            ]
          },
          "metadata": {},
          "execution_count": 235
        }
      ]
    },
    {
      "cell_type": "code",
      "source": [
        "#Revisar columnas categóricas haciendo conteo de valores de la columna 'LocationAbbr'\n",
        "df['LocationAbbr'].value_counts()"
      ],
      "metadata": {
        "colab": {
          "base_uri": "https://localhost:8080/"
        },
        "id": "xvDD5xUjDCAR",
        "outputId": "3d4cadf7-bee0-49f4-f7ed-42a5da71a32d"
      },
      "execution_count": 236,
      "outputs": [
        {
          "output_type": "execute_result",
          "data": {
            "text/plain": [
              "US      5376\n",
              "WEST    5370\n",
              "NRE     5346\n",
              "MDW     5343\n",
              "OR      5299\n",
              "SOU     5274\n",
              "NY      5271\n",
              "UT      4714\n",
              "OH      4666\n",
              "HI      4626\n",
              "MD      4616\n",
              "GA      4539\n",
              "MI      4493\n",
              "TN      4446\n",
              "TX      4431\n",
              "MS      4381\n",
              "ME      4373\n",
              "WV      4318\n",
              "WI      4313\n",
              "NV      4308\n",
              "VA      4274\n",
              "AL      4271\n",
              "NM      4265\n",
              "KY      4255\n",
              "DC      4249\n",
              "PA      4236\n",
              "SC      4231\n",
              "OK      4227\n",
              "AK      4223\n",
              "NJ      4200\n",
              "MO      4179\n",
              "IN      4176\n",
              "SD      4174\n",
              "IL      4165\n",
              "MN      4161\n",
              "LA      4158\n",
              "NE      4155\n",
              "ID      4150\n",
              "CT      4149\n",
              "RI      4146\n",
              "ND      4142\n",
              "KS      4116\n",
              "IA      4108\n",
              "WY      4103\n",
              "AR      4102\n",
              "NC      4090\n",
              "DE      4090\n",
              "CA      4084\n",
              "AZ      4074\n",
              "VT      4004\n",
              "CO      3966\n",
              "MA      3896\n",
              "WA      3864\n",
              "MT      3840\n",
              "NH      3776\n",
              "FL      3741\n",
              "PR      3239\n",
              "GU      3131\n",
              "VI      1024\n",
              "Name: LocationAbbr, dtype: int64"
            ]
          },
          "metadata": {},
          "execution_count": 236
        }
      ]
    },
    {
      "cell_type": "code",
      "source": [
        "#Revisar columnas categóricas haciendo conteo de valores de la columna 'LocationDesc'\n",
        "df['LocationDesc'].value_counts()"
      ],
      "metadata": {
        "colab": {
          "base_uri": "https://localhost:8080/"
        },
        "id": "zNXjpWHFDbMZ",
        "outputId": "dd003d75-bcbd-4915-e07a-ffa15b46aa10"
      },
      "execution_count": 237,
      "outputs": [
        {
          "output_type": "execute_result",
          "data": {
            "text/plain": [
              "United States, DC & Territories    5376\n",
              "West                               5370\n",
              "Northeast                          5346\n",
              "Midwest                            5343\n",
              "Oregon                             5299\n",
              "South                              5274\n",
              "New York                           5271\n",
              "Utah                               4714\n",
              "Ohio                               4666\n",
              "Hawaii                             4626\n",
              "Maryland                           4616\n",
              "Georgia                            4539\n",
              "Michigan                           4493\n",
              "Tennessee                          4446\n",
              "Texas                              4431\n",
              "Mississippi                        4381\n",
              "Maine                              4373\n",
              "West Virginia                      4318\n",
              "Wisconsin                          4313\n",
              "Nevada                             4308\n",
              "Virginia                           4274\n",
              "Alabama                            4271\n",
              "New Mexico                         4265\n",
              "Kentucky                           4255\n",
              "District of Columbia               4249\n",
              "Pennsylvania                       4236\n",
              "South Carolina                     4231\n",
              "Oklahoma                           4227\n",
              "Alaska                             4223\n",
              "New Jersey                         4200\n",
              "Missouri                           4179\n",
              "Indiana                            4176\n",
              "South Dakota                       4174\n",
              "Illinois                           4165\n",
              "Minnesota                          4161\n",
              "Louisiana                          4158\n",
              "Nebraska                           4155\n",
              "Idaho                              4150\n",
              "Connecticut                        4149\n",
              "Rhode Island                       4146\n",
              "North Dakota                       4142\n",
              "Kansas                             4116\n",
              "Iowa                               4108\n",
              "Wyoming                            4103\n",
              "Arkansas                           4102\n",
              "North Carolina                     4090\n",
              "Delaware                           4090\n",
              "California                         4084\n",
              "Arizona                            4074\n",
              "Vermont                            4004\n",
              "Colorado                           3966\n",
              "Massachusetts                      3896\n",
              "Washington                         3864\n",
              "Montana                            3840\n",
              "New Hampshire                      3776\n",
              "Florida                            3741\n",
              "Puerto Rico                        3239\n",
              "Guam                               3131\n",
              "Virgin Islands                     1024\n",
              "Name: LocationDesc, dtype: int64"
            ]
          },
          "metadata": {},
          "execution_count": 237
        }
      ]
    },
    {
      "cell_type": "code",
      "source": [
        "#Revisar columnas categóricas haciendo conteo de valores de la columna 'Datasource'\n",
        "df['Datasource'].value_counts()"
      ],
      "metadata": {
        "colab": {
          "base_uri": "https://localhost:8080/"
        },
        "id": "sMPE161lEUJF",
        "outputId": "1460854c-0a0f-4cc2-8d15-2da190cadf23"
      },
      "execution_count": 238,
      "outputs": [
        {
          "output_type": "execute_result",
          "data": {
            "text/plain": [
              "BRFSS    250937\n",
              "Name: Datasource, dtype: int64"
            ]
          },
          "metadata": {},
          "execution_count": 238
        }
      ]
    },
    {
      "cell_type": "code",
      "source": [
        "#Revisar columnas categóricas haciendo conteo de valores de la columna 'Class'\n",
        "df['Class'].value_counts()"
      ],
      "metadata": {
        "colab": {
          "base_uri": "https://localhost:8080/"
        },
        "id": "Exdt0AuzEhTh",
        "outputId": "6464b802-9d54-4475-b221-2d604a822b51"
      },
      "execution_count": 239,
      "outputs": [
        {
          "output_type": "execute_result",
          "data": {
            "text/plain": [
              "Overall Health                         84091\n",
              "Screenings and Vaccines                52297\n",
              "Nutrition/Physical Activity/Obesity    30376\n",
              "Caregiving                             24427\n",
              "Cognitive Decline                      21015\n",
              "Mental Health                          19366\n",
              "Smoking and Alcohol Use                19365\n",
              "Name: Class, dtype: int64"
            ]
          },
          "metadata": {},
          "execution_count": 239
        }
      ]
    },
    {
      "cell_type": "code",
      "source": [
        "#Revisar columnas categóricas haciendo conteo de valores de la columna 'Topic'\n",
        "df['Topic'].value_counts()"
      ],
      "metadata": {
        "colab": {
          "base_uri": "https://localhost:8080/"
        },
        "id": "JAbsONjBEif9",
        "outputId": "7adb9b92-c8ec-446d-9fb0-1bf078725e2d"
      },
      "execution_count": 240,
      "outputs": [
        {
          "output_type": "execute_result",
          "data": {
            "text/plain": [
              "Influenza vaccine within past year                                                                        9683\n",
              "Frequent mental distress                                                                                  9683\n",
              "Physically unhealthy days (mean number of days)                                                           9683\n",
              "No leisure-time physical activity within past month                                                       9683\n",
              "Obesity                                                                                                   9683\n",
              "Lifetime diagnosis of depression                                                                          9683\n",
              "Current smoking                                                                                           9683\n",
              "Self-rated health (fair to poor health)                                                                   9682\n",
              "Self-rated health (good to excellent health)                                                              9682\n",
              "Binge drinking within past 30 days                                                                        9682\n",
              "Ever had pneumococcal vaccine                                                                             9646\n",
              "Recent activity limitations in past month                                                                 9601\n",
              "Disability status, including sensory or mobility limitations                                              8300\n",
              "Arthritis among older adults                                                                              6894\n",
              "Fair or poor health among older adults with arthritis                                                     6816\n",
              "Subjective cognitive decline or memory loss among older adults                                            5568\n",
              "High blood pressure ever                                                                                  5510\n",
              "Cholesterol checked in past 5 years                                                                       5510\n",
              "Eating 2 or more fruits daily                                                                             5506\n",
              "Eating 3 or more vegetables daily                                                                         5504\n",
              "Taking medication for high blood pressure                                                                 5484\n",
              "Severe joint pain among older adults with arthritis                                                       5433\n",
              "Diabetes screening within past 3 years                                                                    5407\n",
              "Need assistance with day-to-day activities because of subjective cognitive decline or memory loss         5151\n",
              "Talked with health care professional about subjective cognitive decline or memory loss                    5148\n",
              "Functional difficulties associated with subjective cognitive decline or memory loss among older adults    5148\n",
              "Provide care for a friend or family member in past month                                                  5018\n",
              "Expect to provide care for someone in the next two years                                                  4987\n",
              "Duration of caregiving among older adults                                                                 4814\n",
              "Provide care for someone with cognitive impairment within the past month                                  4811\n",
              "Intensity of caregiving among older adults                                                                4797\n",
              "Fall with injury within last year                                                                         4173\n",
              "Colorectal cancer screening                                                                               4173\n",
              "Oral health:  tooth retention                                                                             4172\n",
              "Prevalence of sufficient sleep                                                                            4171\n",
              "Up-to-date with recommended vaccines and screenings - Women                                               3106\n",
              "Mammogram within past 2 years                                                                             3097\n",
              "Up-to-date with recommended vaccines and screenings - Men                                                 3097\n",
              "Pap test within past 3 years                                                                              3068\n",
              "Name: Topic, dtype: int64"
            ]
          },
          "metadata": {},
          "execution_count": 240
        }
      ]
    },
    {
      "cell_type": "code",
      "source": [
        "#Revisar columnas categóricas haciendo conteo de valores de la columna 'Question'\n",
        "df['Question'].value_counts()"
      ],
      "metadata": {
        "colab": {
          "base_uri": "https://localhost:8080/"
        },
        "id": "t4dkQ_aiEiBu",
        "outputId": "456149de-285b-4627-f351-2c29d4513c16"
      },
      "execution_count": 241,
      "outputs": [
        {
          "output_type": "execute_result",
          "data": {
            "text/plain": [
              "Percentage of older adults who reported influenza vaccine within the past year                                                                                               9683\n",
              "Percentage of older adults who are experiencing frequent mental distress                                                                                                     9683\n",
              "Physically unhealthy days (mean number of days in past month)                                                                                                                9683\n",
              "Percentage of older adults who have not had any leisure time physical activity in the past month                                                                             9683\n",
              "Percentage of older adults who are currently obese, with a body mass index (BMI) of 30 or more                                                                               9683\n",
              "Percentage of older adults with a lifetime diagnosis of depression                                                                                                           9683\n",
              "Percentage of older adults who have smoked at least 100 cigarettes in their entire life and still smoke every day or some days                                               9683\n",
              "Percentage of older adults who self-reported that their health is \"fair\" or \"poor\"                                                                                           9682\n",
              "Percentage of older adults who self-reported that their health is \"good\", \"very good\", or \"excellent\"                                                                        9682\n",
              "Percentage of older adults who reported binge drinking within the past 30 days                                                                                               9682\n",
              "Percentage of at risk adults (have diabetes, asthma, cardiovascular disease or currently smoke) who ever had a pneumococcal vaccine                                          9646\n",
              "Mean number of days with activity limitations in the past month                                                                                                              9601\n",
              "Percentage of older adults who report having a disability (includes limitations related to sensory or mobility impairments or a physical, mental, or emotional condition)    8300\n",
              "Percentage of older adults ever told they have arthritis                                                                                                                     6894\n",
              "Fair or poor health among older adults with doctor-diagnosed arthritis                                                                                                       6816\n",
              "Percentage of older adults who reported subjective cognitive decline or memory loss that is happening more often or is getting worse in the preceding 12 months              5568\n",
              "Percentage of older adults who have ever been told by a health professional that they have high blood pressure                                                               5510\n",
              "Percentage of older adults who had a cholesterol screening within the past 5 years                                                                                           5510\n",
              "Percentage of older adults who are eating 2 or more fruits daily                                                                                                             5506\n",
              "Percentage of older adults who are eating 3 or more vegetables daily                                                                                                         5504\n",
              "Percentage of older adults who have been told they have high blood pressure who report currently taking medication for their high blood pressure                             5484\n",
              "Severe joint pain due to arthritis among older adults with doctor-diagnosed arthritis                                                                                        5433\n",
              "Percentage of older adults without diabetes who reported a blood sugar or diabetes test within 3 years                                                                       5407\n",
              "Percentage of older adults who reported that as a result of subjective cognitive decline or memory loss that they need assistance with day-to-day activities                 5151\n",
              "Percentage of older adults with subjective cognitive decline or memory loss who reported talking with a health care professional about it                                    5148\n",
              "Percentage of older adults who reported subjective cognitive decline or memory loss that interferes with their ability to engage in social activities or household chores    5148\n",
              "Percentage of older adults who provided care for a friend or family member within the past month                                                                             5018\n",
              "Percentage of older adults currently not providing care who expect to provide care for someone with health problems in the next two years                                    4987\n",
              "Percentage of older adults who provided care to a friend or family member for six months or more                                                                             4814\n",
              "Percentage of older adults who provided care for someone with dementia or other cognitive impairment within the past month                                                   4811\n",
              "Average of 20 or more hours of care per week provided to a friend or family member                                                                                           4797\n",
              "Percentage of older adults who have fallen and sustained an injury within last year                                                                                          4173\n",
              "Percentage of older adults who had either a home blood stool test within the past year or a sigmoidoscopy or colonoscopy within the past 10 years                            4173\n",
              "Percentage of older adults who report having lost 5 or fewer teeth due to decay or gum disease                                                                               4172\n",
              "Percentage of older adults getting sufficient sleep (>6 hours)                                                                                                               4171\n",
              "Percentage of older adult women who are up to date with select clinical preventive services                                                                                  3106\n",
              "Percentage of older adult women who have received a mammogram within the past 2 years                                                                                        3097\n",
              "Percentage of older adult men who are up to date with select clinical preventive services                                                                                    3097\n",
              "Percentage of older adult women with an intact cervix who had a Pap test within the past 3 years                                                                             3068\n",
              "Name: Question, dtype: int64"
            ]
          },
          "metadata": {},
          "execution_count": 241
        }
      ]
    },
    {
      "cell_type": "code",
      "source": [
        "#Revisar columnas categóricas haciendo conteo de valores de la columna 'ResponseID'\n",
        "df['ResponseID'].value_counts()"
      ],
      "metadata": {
        "colab": {
          "base_uri": "https://localhost:8080/"
        },
        "id": "E4I9XxSsL65g",
        "outputId": "d891459f-17e1-4001-cad9-5f30ba3b8642"
      },
      "execution_count": 242,
      "outputs": [
        {
          "output_type": "execute_result",
          "data": {
            "text/plain": [
              "Series([], Name: ResponseID, dtype: int64)"
            ]
          },
          "metadata": {},
          "execution_count": 242
        }
      ]
    },
    {
      "cell_type": "code",
      "source": [
        "#Revisar columnas categóricas haciendo conteo de valores de la columna 'Data_Value_Unit'\n",
        "df['Data_Value_Unit'].value_counts()"
      ],
      "metadata": {
        "colab": {
          "base_uri": "https://localhost:8080/"
        },
        "id": "wz3EbpKdEktO",
        "outputId": "8570b3e8-2d1b-47b9-9a2c-2c821935d86b"
      },
      "execution_count": 243,
      "outputs": [
        {
          "output_type": "execute_result",
          "data": {
            "text/plain": [
              "%         231653\n",
              "Number     19284\n",
              "Name: Data_Value_Unit, dtype: int64"
            ]
          },
          "metadata": {},
          "execution_count": 243
        }
      ]
    },
    {
      "cell_type": "code",
      "source": [
        "#Revisar columnas categóricas haciendo conteo de valores de la columna 'DataValueTypeID'\n",
        "df['DataValueTypeID'].value_counts()"
      ],
      "metadata": {
        "colab": {
          "base_uri": "https://localhost:8080/"
        },
        "id": "i676Zg6YEj7Y",
        "outputId": "c7fe87d1-f3c0-4847-8d76-6d08803b3cc7"
      },
      "execution_count": 244,
      "outputs": [
        {
          "output_type": "execute_result",
          "data": {
            "text/plain": [
              "PRCTG    231653\n",
              "MEAN      19284\n",
              "Name: DataValueTypeID, dtype: int64"
            ]
          },
          "metadata": {},
          "execution_count": 244
        }
      ]
    },
    {
      "cell_type": "code",
      "source": [
        "#Revisar columnas categóricas haciendo conteo de valores de la columna 'Data_Value_Type'\n",
        "df['Data_Value_Type'].value_counts()"
      ],
      "metadata": {
        "colab": {
          "base_uri": "https://localhost:8080/"
        },
        "id": "uNUZyRtYEjmm",
        "outputId": "146fe85a-996d-47d9-9342-661a1bc89a12"
      },
      "execution_count": 245,
      "outputs": [
        {
          "output_type": "execute_result",
          "data": {
            "text/plain": [
              "Percentage    231653\n",
              "Mean           19284\n",
              "Name: Data_Value_Type, dtype: int64"
            ]
          },
          "metadata": {},
          "execution_count": 245
        }
      ]
    },
    {
      "cell_type": "code",
      "source": [
        "#Revisar columnas categóricas haciendo conteo de valores de la columna 'Data_Value_Footnote_Symbol'\n",
        "df['Data_Value_Footnote_Symbol'].value_counts()"
      ],
      "metadata": {
        "colab": {
          "base_uri": "https://localhost:8080/"
        },
        "id": "pqGxOdQ2EjP5",
        "outputId": "f87dcb2b-6e61-420b-b338-588cccade2cc"
      },
      "execution_count": 246,
      "outputs": [
        {
          "output_type": "execute_result",
          "data": {
            "text/plain": [
              "****    70038\n",
              "&       12910\n",
              "~       11597\n",
              "#        3036\n",
              "**       1533\n",
              "Name: Data_Value_Footnote_Symbol, dtype: int64"
            ]
          },
          "metadata": {},
          "execution_count": 246
        }
      ]
    },
    {
      "cell_type": "code",
      "source": [
        "#Revisar columnas categóricas haciendo conteo de valores de la columna 'Data_Value_Footnote'\n",
        "df['Data_Value_Footnote'].value_counts()"
      ],
      "metadata": {
        "colab": {
          "base_uri": "https://localhost:8080/"
        },
        "id": "GITrT_-HElc-",
        "outputId": "e0574709-36f1-4145-ef40-e1b4fdb6249b"
      },
      "execution_count": 247,
      "outputs": [
        {
          "output_type": "execute_result",
          "data": {
            "text/plain": [
              "Sample size of denominator and/or age group for age-standardization is less than 50 or relative standard error is more than 30%    70038\n",
              "Regional estimates may not represent all states in the region                                                                      12910\n",
              "No Data Available                                                                                                                  11597\n",
              "Fewer than 50 States reporting                                                                                                      3036\n",
              "Estimate is not comparable to those generated using data from years prior to 2019 due to survey question changes                    1533\n",
              "Name: Data_Value_Footnote, dtype: int64"
            ]
          },
          "metadata": {},
          "execution_count": 247
        }
      ]
    },
    {
      "cell_type": "code",
      "source": [
        "#Revisar columnas categóricas haciendo conteo de valores de la columna 'Low_Confidence_Limit'\n",
        "df['Low_Confidence_Limit'].value_counts() #Está como type integer, hay que cambiarlo a float porque es numérico y con decimales"
      ],
      "metadata": {
        "colab": {
          "base_uri": "https://localhost:8080/"
        },
        "id": "4ODnRQGHEl50",
        "outputId": "397288f6-42dd-442d-8f7f-8ffdc99dd217"
      },
      "execution_count": 248,
      "outputs": [
        {
          "output_type": "execute_result",
          "data": {
            "text/plain": [
              "4.7     494\n",
              "4.8     489\n",
              "5.1     487\n",
              "4.9     470\n",
              "4.3     463\n",
              "       ... \n",
              "99.0      1\n",
              "99.0      1\n",
              "99.6      1\n",
              "98.9      1\n",
              "99.4      1\n",
              "Name: Low_Confidence_Limit, Length: 1976, dtype: int64"
            ]
          },
          "metadata": {},
          "execution_count": 248
        }
      ]
    },
    {
      "cell_type": "code",
      "source": [
        "# Revisar por qué no me dejar convertir el campo con astype(float):\n",
        "try:\n",
        "    numero_decimal = float('Low_Confidence_Limit')\n",
        "except ValueError:\n",
        "    print(\"Error: la cadena no tiene un valor numérico\")\n"
      ],
      "metadata": {
        "colab": {
          "base_uri": "https://localhost:8080/"
        },
        "id": "FVKLFVBAYr6a",
        "outputId": "8fe36866-4c53-40b6-d150-24463719fd85"
      },
      "execution_count": 249,
      "outputs": [
        {
          "output_type": "stream",
          "name": "stdout",
          "text": [
            "Error: la cadena no tiene un valor numérico\n"
          ]
        }
      ]
    },
    {
      "cell_type": "code",
      "source": [
        "#=> Código consultado en ChatGPT\n",
        "\n",
        "# Convertimos la columna 'Low_Confidence_Limit' a float utilizando pd.to_numeric():\n",
        "df['Low_Confidence_Limit'] = pd.to_numeric(df['Low_Confidence_Limit'], errors='coerce')\n",
        "\n",
        "print(df.dtypes) # Verificamos el tipo de datos de la columna"
      ],
      "metadata": {
        "colab": {
          "base_uri": "https://localhost:8080/"
        },
        "id": "W6cOqhrEbsuc",
        "outputId": "e3d7b51a-8540-45a7-df71-e6351efe4039"
      },
      "execution_count": 250,
      "outputs": [
        {
          "output_type": "stream",
          "name": "stdout",
          "text": [
            "RowId                         float64\n",
            "YearStart                       int64\n",
            "YearEnd                         int64\n",
            "LocationAbbr                   object\n",
            "LocationDesc                   object\n",
            "Datasource                     object\n",
            "Class                          object\n",
            "Topic                          object\n",
            "Question                       object\n",
            "Response                      float64\n",
            "Data_Value_Unit                object\n",
            "DataValueTypeID                object\n",
            "Data_Value_Type                object\n",
            "Data_Value                    float64\n",
            "Data_Value_Alt                float64\n",
            "Data_Value_Footnote_Symbol     object\n",
            "Data_Value_Footnote            object\n",
            "Low_Confidence_Limit          float64\n",
            "High_Confidence_Limit          object\n",
            "Sample_Size                   float64\n",
            "StratificationCategory1        object\n",
            "Stratification1                object\n",
            "StratificationCategory2        object\n",
            "Stratification2                object\n",
            "StratificationCategory3       float64\n",
            "Stratification3               float64\n",
            "Geolocation                    object\n",
            "ClassID                        object\n",
            "TopicID                        object\n",
            "QuestionID                     object\n",
            "ResponseID                    float64\n",
            "LocationID                      int64\n",
            "StratificationCategoryID1      object\n",
            "StratificationID1              object\n",
            "StratificationCategoryID2      object\n",
            "StratificationID2              object\n",
            "StratificationCategoryID3     float64\n",
            "StratificationID3             float64\n",
            "Report                        float64\n",
            "dtype: object\n"
          ]
        }
      ]
    },
    {
      "cell_type": "code",
      "source": [
        "#Revisar columnas categóricas haciendo conteo de valores de la columna 'High_Confidence_Limit'\n",
        "df['High_Confidence_Limit'].value_counts() #Está como type integer, hay que cambiarlo a float porque es numérico y con decimales"
      ],
      "metadata": {
        "colab": {
          "base_uri": "https://localhost:8080/"
        },
        "id": "WITbSRmwEmS0",
        "outputId": "5ee4ca53-2150-4aaa-9328-2b01708b791d"
      },
      "execution_count": 251,
      "outputs": [
        {
          "output_type": "execute_result",
          "data": {
            "text/plain": [
              "6.1    302\n",
              "5.5    299\n",
              "5.8    293\n",
              "5.7    292\n",
              "5.9    286\n",
              "      ... \n",
              "2.4      1\n",
              "1.5      1\n",
              "1.7      1\n",
              "2.8      1\n",
              "1.6      1\n",
              "Name: High_Confidence_Limit, Length: 1967, dtype: int64"
            ]
          },
          "metadata": {},
          "execution_count": 251
        }
      ]
    },
    {
      "cell_type": "code",
      "source": [
        "#=> Código consultado en ChatGPT\n",
        "\n",
        "# Convertimos la columna 'Low_Confidence_Limit' a float utilizando pd.to_numeric():\n",
        "df['High_Confidence_Limit'] = pd.to_numeric(df['High_Confidence_Limit'], errors='coerce')\n",
        "\n",
        "print(df.dtypes) # Verificamos el tipo de datos de la columna"
      ],
      "metadata": {
        "colab": {
          "base_uri": "https://localhost:8080/"
        },
        "id": "9fiRrLdDc2a8",
        "outputId": "4d9dbf30-dc7a-4757-9666-a12b5a631370"
      },
      "execution_count": 252,
      "outputs": [
        {
          "output_type": "stream",
          "name": "stdout",
          "text": [
            "RowId                         float64\n",
            "YearStart                       int64\n",
            "YearEnd                         int64\n",
            "LocationAbbr                   object\n",
            "LocationDesc                   object\n",
            "Datasource                     object\n",
            "Class                          object\n",
            "Topic                          object\n",
            "Question                       object\n",
            "Response                      float64\n",
            "Data_Value_Unit                object\n",
            "DataValueTypeID                object\n",
            "Data_Value_Type                object\n",
            "Data_Value                    float64\n",
            "Data_Value_Alt                float64\n",
            "Data_Value_Footnote_Symbol     object\n",
            "Data_Value_Footnote            object\n",
            "Low_Confidence_Limit          float64\n",
            "High_Confidence_Limit         float64\n",
            "Sample_Size                   float64\n",
            "StratificationCategory1        object\n",
            "Stratification1                object\n",
            "StratificationCategory2        object\n",
            "Stratification2                object\n",
            "StratificationCategory3       float64\n",
            "Stratification3               float64\n",
            "Geolocation                    object\n",
            "ClassID                        object\n",
            "TopicID                        object\n",
            "QuestionID                     object\n",
            "ResponseID                    float64\n",
            "LocationID                      int64\n",
            "StratificationCategoryID1      object\n",
            "StratificationID1              object\n",
            "StratificationCategoryID2      object\n",
            "StratificationID2              object\n",
            "StratificationCategoryID3     float64\n",
            "StratificationID3             float64\n",
            "Report                        float64\n",
            "dtype: object\n"
          ]
        }
      ]
    },
    {
      "cell_type": "code",
      "source": [
        "#Revisar columnas categóricas haciendo conteo de valores de la columna 'StratificationCategory1'\n",
        "df['StratificationCategory1'].value_counts()"
      ],
      "metadata": {
        "colab": {
          "base_uri": "https://localhost:8080/"
        },
        "id": "2CI1IVd1Em4f",
        "outputId": "e959d402-d89a-4935-cf24-25b013fe3ab9"
      },
      "execution_count": 253,
      "outputs": [
        {
          "output_type": "execute_result",
          "data": {
            "text/plain": [
              "Age Group    250937\n",
              "Name: StratificationCategory1, dtype: int64"
            ]
          },
          "metadata": {},
          "execution_count": 253
        }
      ]
    },
    {
      "cell_type": "code",
      "source": [
        "#Revisar columnas categóricas haciendo conteo de valores de la columna 'Stratification1'\n",
        "df['Stratification1'].value_counts()"
      ],
      "metadata": {
        "colab": {
          "base_uri": "https://localhost:8080/"
        },
        "id": "FxEXJTGSEnVc",
        "outputId": "63315af9-e280-4d4a-fe65-bedf8bac7643"
      },
      "execution_count": 254,
      "outputs": [
        {
          "output_type": "execute_result",
          "data": {
            "text/plain": [
              "Overall              84147\n",
              "50-64 years          83695\n",
              "65 years or older    83095\n",
              "Name: Stratification1, dtype: int64"
            ]
          },
          "metadata": {},
          "execution_count": 254
        }
      ]
    },
    {
      "cell_type": "code",
      "source": [
        "#Revisar columnas categóricas haciendo conteo de valores de la columna 'StratificationCategory2'\n",
        "df['StratificationCategory2'].value_counts()"
      ],
      "metadata": {
        "colab": {
          "base_uri": "https://localhost:8080/"
        },
        "id": "82c8iH0WEoVX",
        "outputId": "8087ff41-79f1-4696-c695-5ea6a177e5c6"
      },
      "execution_count": 255,
      "outputs": [
        {
          "output_type": "execute_result",
          "data": {
            "text/plain": [
              "Race/Ethnicity    158009\n",
              "Gender             60552\n",
              "Name: StratificationCategory2, dtype: int64"
            ]
          },
          "metadata": {},
          "execution_count": 255
        }
      ]
    },
    {
      "cell_type": "code",
      "source": [
        "#Revisar columnas categóricas haciendo conteo de valores de la columna 'Stratification2'\n",
        "df['Stratification2'].value_counts()"
      ],
      "metadata": {
        "colab": {
          "base_uri": "https://localhost:8080/"
        },
        "id": "TqG1WRD_En0-",
        "outputId": "eac979b6-723b-4fef-a2ef-3f6696d8f0e7"
      },
      "execution_count": 256,
      "outputs": [
        {
          "output_type": "execute_result",
          "data": {
            "text/plain": [
              "White, non-Hispanic         32332\n",
              "Hispanic                    32205\n",
              "Black, non-Hispanic         31649\n",
              "Native Am/Alaskan Native    31050\n",
              "Asian/Pacific Islander      30773\n",
              "Female                      30276\n",
              "Male                        30276\n",
              "Name: Stratification2, dtype: int64"
            ]
          },
          "metadata": {},
          "execution_count": 256
        }
      ]
    },
    {
      "cell_type": "code",
      "source": [
        "#Revisar columnas categóricas haciendo conteo de valores de la columna 'StratificationCategory3'\n",
        "df['StratificationCategory3'].value_counts()"
      ],
      "metadata": {
        "colab": {
          "base_uri": "https://localhost:8080/"
        },
        "id": "FMhivmZHEpdf",
        "outputId": "ea91f86c-e9ad-4b91-c37c-8378fed9f647"
      },
      "execution_count": 257,
      "outputs": [
        {
          "output_type": "execute_result",
          "data": {
            "text/plain": [
              "Series([], Name: StratificationCategory3, dtype: int64)"
            ]
          },
          "metadata": {},
          "execution_count": 257
        }
      ]
    },
    {
      "cell_type": "code",
      "source": [
        "#Revisar columnas categóricas haciendo conteo de valores de la columna 'Geolocation'\n",
        "df['Geolocation'].value_counts()"
      ],
      "metadata": {
        "colab": {
          "base_uri": "https://localhost:8080/"
        },
        "id": "i6HRY6_eEp8k",
        "outputId": "ef5c9175-1943-4db6-bfdf-163bfba0b0d2"
      },
      "execution_count": 258,
      "outputs": [
        {
          "output_type": "execute_result",
          "data": {
            "text/plain": [
              "POINT (-120.15503132599969 44.56744942400047)     5299\n",
              "POINT (-75.54397042699964 42.82700103200045)      5271\n",
              "POINT (-111.58713063499971 39.360700171000474)    4714\n",
              "POINT (-82.40426005599966 40.06021014100048)      4666\n",
              "POINT (-157.85774940299973 21.304850435000446)    4626\n",
              "POINT (-76.60926011099963 39.29058096400047)      4616\n",
              "POINT (-83.62758034599966 32.83968109300048)      4539\n",
              "POINT (-84.71439026999968 44.6613195430005)       4493\n",
              "POINT (-85.77449091399967 35.68094058000048)      4446\n",
              "POINT (-99.42677020599967 31.827240407000488)     4431\n",
              "POINT (-89.53803082499968 32.745510099000455)     4381\n",
              "POINT (-68.98503133599962 45.254228894000505)     4373\n",
              "POINT (-80.71264013499967 38.66551020200046)      4318\n",
              "POINT (-89.81637074199966 44.39319117400049)      4313\n",
              "POINT (-117.07184056399967 39.493240390000494)    4308\n",
              "POINT (-78.45789046299967 37.54268067400045)      4274\n",
              "POINT (-86.63186076199969 32.84057112200048)      4271\n",
              "POINT (-106.24058098499967 34.52088095200048)     4265\n",
              "POINT (-84.77497104799966 37.645970271000465)     4255\n",
              "POINT (-77.036871 38.907192)                      4249\n",
              "POINT (-77.86070029399963 40.79373015200048)      4236\n",
              "POINT (-81.04537120699968 33.998821303000454)     4231\n",
              "POINT (-97.52107021399968 35.47203135600046)      4227\n",
              "POINT (-147.72205903599973 64.84507995700051)     4223\n",
              "POINT (-74.27369128799967 40.13057004800049)      4200\n",
              "POINT (-92.56630005299968 38.635790776000476)     4179\n",
              "POINT (-86.14996019399968 39.766910452000445)     4176\n",
              "POINT (-100.3735306369997 44.353130053000484)     4174\n",
              "POINT (-88.99771017799969 40.48501028300046)      4165\n",
              "POINT (-94.79420050299967 46.35564873600049)      4161\n",
              "POINT (-92.44568007099969 31.31266064400046)      4158\n",
              "POINT (-99.36572062299967 41.6410409880005)       4155\n",
              "POINT (-114.3637300419997 43.682630005000476)     4150\n",
              "POINT (-72.64984095199964 41.56266102000046)      4149\n",
              "POINT (-71.52247031399963 41.70828019300046)      4146\n",
              "POINT (-100.11842104899966 47.47531977900047)     4142\n",
              "POINT (-98.20078122699965 38.34774030000045)      4116\n",
              "POINT (-93.81649055599968 42.46940091300047)      4108\n",
              "POINT (-108.10983035299967 43.23554134300048)     4103\n",
              "POINT (-92.27449074299966 34.74865012400045)      4102\n",
              "POINT (-75.57774116799965 39.008830667000495)     4090\n",
              "POINT (-79.15925046299964 35.466220975000454)     4090\n",
              "POINT (-120.99999953799971 37.63864012300047)     4084\n",
              "POINT (-111.76381127699972 34.865970280000454)    4074\n",
              "POINT (-72.51764079099962 43.62538123900049)      4004\n",
              "POINT (-106.13361092099967 38.843840757000464)    3966\n",
              "POINT (-72.08269067499964 42.27687047000046)      3896\n",
              "POINT (-120.47001078999972 47.52227862900048)     3864\n",
              "POINT (-109.42442064499971 47.06652897200047)     3840\n",
              "POINT (-71.50036091999965 43.65595011300047)      3776\n",
              "POINT (-81.92896053899966 28.932040377000476)     3741\n",
              "POINT (-66.590149 18.220833)                      3239\n",
              "POINT (144.793731 13.444304)                      3131\n",
              "POINT (-64.896335 18.335765)                      1024\n",
              "Name: Geolocation, dtype: int64"
            ]
          },
          "metadata": {},
          "execution_count": 258
        }
      ]
    },
    {
      "cell_type": "code",
      "source": [
        "#Revisar columnas categóricas haciendo conteo de valores de la columna 'ClassID'\n",
        "df['ClassID'].value_counts()"
      ],
      "metadata": {
        "colab": {
          "base_uri": "https://localhost:8080/"
        },
        "id": "oxdg20G_ErHL",
        "outputId": "c77e26b4-dbb2-46df-93e4-ccc87a3c755d"
      },
      "execution_count": 259,
      "outputs": [
        {
          "output_type": "execute_result",
          "data": {
            "text/plain": [
              "C01    84091\n",
              "C03    52297\n",
              "C02    30376\n",
              "C07    24427\n",
              "C06    21015\n",
              "C05    19366\n",
              "C04    19365\n",
              "Name: ClassID, dtype: int64"
            ]
          },
          "metadata": {},
          "execution_count": 259
        }
      ]
    },
    {
      "cell_type": "code",
      "source": [
        "#Revisar columnas categóricas haciendo conteo de valores de la columna 'TopicID'\n",
        "df['TopicID'].value_counts()"
      ],
      "metadata": {
        "colab": {
          "base_uri": "https://localhost:8080/"
        },
        "id": "usQv-hvbEsFq",
        "outputId": "25b945d8-fe5c-48da-d75f-31fddd42d200"
      },
      "execution_count": 260,
      "outputs": [
        {
          "output_type": "execute_result",
          "data": {
            "text/plain": [
              "TSC08    9683\n",
              "TMC01    9683\n",
              "TOC01    9683\n",
              "TNC03    9683\n",
              "TNC04    9683\n",
              "TMC03    9683\n",
              "TAC01    9683\n",
              "TOC07    9682\n",
              "TOC08    9682\n",
              "TAC03    9682\n",
              "TSC09    9646\n",
              "TOC03    9601\n",
              "TOC10    8300\n",
              "TOC11    6894\n",
              "TOC13    6816\n",
              "TCC01    5568\n",
              "TSC07    5510\n",
              "TSC06    5510\n",
              "TNC01    5506\n",
              "TNC02    5504\n",
              "TOC04    5484\n",
              "TOC12    5433\n",
              "TSC04    5407\n",
              "TCC03    5151\n",
              "TCC04    5148\n",
              "TCC02    5148\n",
              "TGC01    5018\n",
              "TGC02    4987\n",
              "TGC03    4814\n",
              "TGC05    4811\n",
              "TGC04    4797\n",
              "TOC06    4173\n",
              "TSC02    4173\n",
              "TOC05    4172\n",
              "TOC09    4171\n",
              "TSC11    3106\n",
              "TSC01    3097\n",
              "TSC10    3097\n",
              "TSC03    3068\n",
              "Name: TopicID, dtype: int64"
            ]
          },
          "metadata": {},
          "execution_count": 260
        }
      ]
    },
    {
      "cell_type": "code",
      "source": [
        "#Revisar columnas categóricas haciendo conteo de valores de la columna 'QuestionID'\n",
        "df['QuestionID'].value_counts()"
      ],
      "metadata": {
        "colab": {
          "base_uri": "https://localhost:8080/"
        },
        "id": "OFBg6bjiErht",
        "outputId": "5e559b6c-6e58-4d6b-b796-29872d102a5b"
      },
      "execution_count": 261,
      "outputs": [
        {
          "output_type": "execute_result",
          "data": {
            "text/plain": [
              "Q18    9683\n",
              "Q03    9683\n",
              "Q08    9683\n",
              "Q16    9683\n",
              "Q13    9683\n",
              "Q27    9683\n",
              "Q17    9683\n",
              "Q32    9682\n",
              "Q33    9682\n",
              "Q21    9682\n",
              "Q09    9646\n",
              "Q35    9601\n",
              "Q46    8300\n",
              "Q43    6894\n",
              "Q45    6816\n",
              "Q30    5568\n",
              "Q22    5510\n",
              "Q14    5510\n",
              "Q01    5506\n",
              "Q02    5504\n",
              "Q04    5484\n",
              "Q44    5433\n",
              "Q19    5407\n",
              "Q41    5151\n",
              "Q42    5148\n",
              "Q31    5148\n",
              "Q36    5018\n",
              "Q37    4987\n",
              "Q38    4814\n",
              "Q40    4811\n",
              "Q39    4797\n",
              "Q05    4173\n",
              "Q15    4173\n",
              "Q07    4172\n",
              "Q34    4171\n",
              "Q11    3106\n",
              "Q12    3097\n",
              "Q10    3097\n",
              "Q20    3068\n",
              "Name: QuestionID, dtype: int64"
            ]
          },
          "metadata": {},
          "execution_count": 261
        }
      ]
    },
    {
      "cell_type": "code",
      "source": [
        "#Revisar columnas categóricas haciendo conteo de valores de la columna 'StratificationCategoryID1'\n",
        "df['StratificationCategoryID1'].value_counts()"
      ],
      "metadata": {
        "colab": {
          "base_uri": "https://localhost:8080/"
        },
        "id": "6MLwWCduEstF",
        "outputId": "5fb5337d-1846-4ec1-dbb5-41171341a9d5"
      },
      "execution_count": 262,
      "outputs": [
        {
          "output_type": "execute_result",
          "data": {
            "text/plain": [
              "AGE    250937\n",
              "Name: StratificationCategoryID1, dtype: int64"
            ]
          },
          "metadata": {},
          "execution_count": 262
        }
      ]
    },
    {
      "cell_type": "code",
      "source": [
        "#Revisar columnas categóricas haciendo conteo de valores de la columna 'StratificationID1'\n",
        "df['StratificationID1'].value_counts()"
      ],
      "metadata": {
        "colab": {
          "base_uri": "https://localhost:8080/"
        },
        "id": "MB8bYpjQGmWd",
        "outputId": "1f176fa9-ddff-4d17-ab29-2b32885dccc0"
      },
      "execution_count": 263,
      "outputs": [
        {
          "output_type": "execute_result",
          "data": {
            "text/plain": [
              "AGE_OVERALL    84147\n",
              "5064           83695\n",
              "65PLUS         83095\n",
              "Name: StratificationID1, dtype: int64"
            ]
          },
          "metadata": {},
          "execution_count": 263
        }
      ]
    },
    {
      "cell_type": "code",
      "source": [
        "#Revisar columnas categóricas haciendo conteo de valores de la columna 'StratificationCategoryID2'\n",
        "df['StratificationCategoryID2'].value_counts()"
      ],
      "metadata": {
        "colab": {
          "base_uri": "https://localhost:8080/"
        },
        "id": "zGPv6UGjGppt",
        "outputId": "5b8010d4-e05f-44d6-8cfb-ca96c732139c"
      },
      "execution_count": 264,
      "outputs": [
        {
          "output_type": "execute_result",
          "data": {
            "text/plain": [
              "RACE       158009\n",
              "GENDER      60552\n",
              "OVERALL     32376\n",
              "Name: StratificationCategoryID2, dtype: int64"
            ]
          },
          "metadata": {},
          "execution_count": 264
        }
      ]
    },
    {
      "cell_type": "code",
      "source": [
        "#Revisar columnas categóricas haciendo conteo de valores de la columna 'StratificationID2'\n",
        "df['StratificationID2'].value_counts()"
      ],
      "metadata": {
        "colab": {
          "base_uri": "https://localhost:8080/"
        },
        "id": "6eokkJSuG01c",
        "outputId": "de235078-7ad0-46f3-ae39-6ecc5af34605"
      },
      "execution_count": 265,
      "outputs": [
        {
          "output_type": "execute_result",
          "data": {
            "text/plain": [
              "OVERALL    32376\n",
              "WHT        32332\n",
              "HIS        32205\n",
              "BLK        31649\n",
              "NAA        31050\n",
              "ASN        30773\n",
              "FEMALE     30276\n",
              "MALE       30276\n",
              "Name: StratificationID2, dtype: int64"
            ]
          },
          "metadata": {},
          "execution_count": 265
        }
      ]
    },
    {
      "cell_type": "code",
      "source": [
        "#Revisar columnas numéricas haciendo conteo de valores de la columna 'YearStart'\n",
        "df['YearStart'].value_counts()"
      ],
      "metadata": {
        "colab": {
          "base_uri": "https://localhost:8080/"
        },
        "id": "AETC9hvXOVpD",
        "outputId": "2f8d5829-6a03-4d7f-95f0-f0bb5342579d"
      },
      "execution_count": 266,
      "outputs": [
        {
          "output_type": "execute_result",
          "data": {
            "text/plain": [
              "2016    45627\n",
              "2021    36649\n",
              "2020    35310\n",
              "2015    35020\n",
              "2019    34354\n",
              "2017    33429\n",
              "2018    30548\n",
              "Name: YearStart, dtype: int64"
            ]
          },
          "metadata": {},
          "execution_count": 266
        }
      ]
    },
    {
      "cell_type": "code",
      "source": [
        "#Revisar columnas numéricas haciendo conteo de valores de la columna 'YearEnd'\n",
        "df['YearEnd'].value_counts()"
      ],
      "metadata": {
        "colab": {
          "base_uri": "https://localhost:8080/"
        },
        "id": "_juCY_oCOfcD",
        "outputId": "8cdc34d1-94bc-4e16-e1ee-b5a86930fafa"
      },
      "execution_count": 267,
      "outputs": [
        {
          "output_type": "execute_result",
          "data": {
            "text/plain": [
              "2021    48131\n",
              "2020    35310\n",
              "2015    35020\n",
              "2019    34354\n",
              "2016    34145\n",
              "2017    33429\n",
              "2018    30548\n",
              "Name: YearEnd, dtype: int64"
            ]
          },
          "metadata": {},
          "execution_count": 267
        }
      ]
    },
    {
      "cell_type": "code",
      "source": [
        "#Revisar columnas numéricas haciendo conteo de valores de la columna 'Data_Value'\n",
        "df['Data_Value'].value_counts()"
      ],
      "metadata": {
        "colab": {
          "base_uri": "https://localhost:8080/"
        },
        "id": "r2TlHjSXOgXA",
        "outputId": "667e5aa4-9b2a-4cf0-8ac1-e016c0e2bdb7"
      },
      "execution_count": 268,
      "outputs": [
        {
          "output_type": "execute_result",
          "data": {
            "text/plain": [
              "6.0    542\n",
              "5.8    524\n",
              "6.3    521\n",
              "5.1    512\n",
              "6.1    511\n",
              "      ... \n",
              "0.4      2\n",
              "0.5      1\n",
              "0.3      1\n",
              "0.6      1\n",
              "0.2      1\n",
              "Name: Data_Value, Length: 1000, dtype: int64"
            ]
          },
          "metadata": {},
          "execution_count": 268
        }
      ]
    },
    {
      "cell_type": "code",
      "source": [
        "#Revisar columnas numéricas haciendo conteo de valores de la columna 'Data_Value_Alt'\n",
        "df['Data_Value_Alt'].value_counts()"
      ],
      "metadata": {
        "colab": {
          "base_uri": "https://localhost:8080/"
        },
        "id": "m_UyR7bLOf_M",
        "outputId": "2e522c9b-fab8-4bd8-8f9e-dac9242d55f7"
      },
      "execution_count": 269,
      "outputs": [
        {
          "output_type": "execute_result",
          "data": {
            "text/plain": [
              "6.0    542\n",
              "5.8    524\n",
              "6.3    521\n",
              "5.1    512\n",
              "6.1    511\n",
              "      ... \n",
              "0.4      2\n",
              "0.5      1\n",
              "0.3      1\n",
              "0.6      1\n",
              "0.2      1\n",
              "Name: Data_Value_Alt, Length: 1000, dtype: int64"
            ]
          },
          "metadata": {},
          "execution_count": 269
        }
      ]
    },
    {
      "cell_type": "code",
      "source": [
        "#Revisar columnas numéricas haciendo conteo de valores de la columna 'Data_Value_Alt'\n",
        "df['LocationID'].value_counts()"
      ],
      "metadata": {
        "colab": {
          "base_uri": "https://localhost:8080/"
        },
        "id": "yXcCCWk-X4or",
        "outputId": "b4e9cbb0-f539-4ac8-9331-ffb23863a97b"
      },
      "execution_count": 270,
      "outputs": [
        {
          "output_type": "execute_result",
          "data": {
            "text/plain": [
              "59      5376\n",
              "9004    5370\n",
              "9001    5346\n",
              "9002    5343\n",
              "41      5299\n",
              "9003    5274\n",
              "36      5271\n",
              "49      4714\n",
              "39      4666\n",
              "15      4626\n",
              "24      4616\n",
              "13      4539\n",
              "26      4493\n",
              "47      4446\n",
              "48      4431\n",
              "28      4381\n",
              "23      4373\n",
              "54      4318\n",
              "55      4313\n",
              "32      4308\n",
              "51      4274\n",
              "1       4271\n",
              "35      4265\n",
              "21      4255\n",
              "11      4249\n",
              "42      4236\n",
              "45      4231\n",
              "40      4227\n",
              "2       4223\n",
              "34      4200\n",
              "29      4179\n",
              "18      4176\n",
              "46      4174\n",
              "17      4165\n",
              "27      4161\n",
              "22      4158\n",
              "31      4155\n",
              "16      4150\n",
              "9       4149\n",
              "44      4146\n",
              "38      4142\n",
              "20      4116\n",
              "19      4108\n",
              "56      4103\n",
              "5       4102\n",
              "37      4090\n",
              "10      4090\n",
              "6       4084\n",
              "4       4074\n",
              "50      4004\n",
              "8       3966\n",
              "25      3896\n",
              "53      3864\n",
              "30      3840\n",
              "33      3776\n",
              "12      3741\n",
              "72      3239\n",
              "66      3131\n",
              "78      1024\n",
              "Name: LocationID, dtype: int64"
            ]
          },
          "metadata": {},
          "execution_count": 270
        }
      ]
    },
    {
      "cell_type": "code",
      "source": [
        "# - Remover columnas inncesarias:\n",
        "\n",
        "# - Class: el campo 'ClassID' fue seleccionado como objetivo, por lo tanto este campo no se debe quedar en la matriz de características.\n",
        "# - Datasource: el valor es igual para todos los registros.\n",
        "# - Data_Value_Type: Es similar a la info que está en la columna DataValueTypeID.\n",
        "# - Data_Value_Footnote_Symbol: símbolos que no le aportan al modelo.\n",
        "# - Data_Value_Alt: es igual a Data_Value.\n",
        "# - Geolocation: es similar al estado.\n",
        "# - LocationID: Corresponde al estado, está repetido.\n",
        "# - LocationDesc: Es la descripción del nombre del estado. Es similar al código de estado que está en 'LocationAbbr'\n",
        "# - Response: está vacía.\n",
        "# - ResponseID: está vacía.\n",
        "# - Report: está vacía.\n",
        "# - RowId: Es un ID que identifica la fila. No se requeire para el modelo.\n",
        "# - Sample_Size: está vacía.\n",
        "# - StratificationCategory1: el valor es igual para todos los registros.\n",
        "# - StratificationCategory2: Es similar a la columna Stratification2\n",
        "# - Stratification3: está vacía.\n",
        "# - StratificationCategory3: está vacía.\n",
        "# - StratificationCategoryID1: el valor es igual para todos los registros.\n",
        "# - StratificationCategoryID2: Es similar a la columna StratificationID2.\n",
        "# - StratificationCategoryID3: está vacía.\n",
        "# - StratificationID3: está vacía.\n",
        "# - 'YearStart' y 'YearEnd': el año no aporta información al modelo.\n",
        "\n",
        "df = df.drop(columns=['Class', 'Datasource', 'Data_Value_Type', 'Data_Value_Footnote_Symbol', 'Data_Value_Alt', 'Geolocation', 'LocationDesc',\n",
        "                      'LocationID', 'Response', 'ResponseID', 'Report','RowId', 'Sample_Size', 'StratificationCategory1', 'StratificationCategory2',\n",
        "                      'Stratification3', 'StratificationCategory3', 'StratificationCategoryID1', 'StratificationCategoryID2', 'StratificationCategoryID3',\n",
        "                      'StratificationID3', 'YearStart', 'YearEnd'])\n",
        "df.head(5)"
      ],
      "metadata": {
        "colab": {
          "base_uri": "https://localhost:8080/",
          "height": 635
        },
        "id": "jbRw8YCoCAUg",
        "outputId": "adb5a188-6b35-4367-a239-fa4ad257e673"
      },
      "execution_count": 271,
      "outputs": [
        {
          "output_type": "execute_result",
          "data": {
            "text/plain": [
              "  LocationAbbr                                            Topic  \\\n",
              "0         WEST                    Eating 2 or more fruits daily   \n",
              "1          NRE                Eating 3 or more vegetables daily   \n",
              "2          MDW                         Frequent mental distress   \n",
              "3         WEST  Physically unhealthy days (mean number of days)   \n",
              "4          MDW                     Arthritis among older adults   \n",
              "\n",
              "                                            Question Data_Value_Unit  \\\n",
              "0  Percentage of older adults who are eating 2 or...               %   \n",
              "1  Percentage of older adults who are eating 3 or...               %   \n",
              "2  Percentage of older adults who are experiencin...               %   \n",
              "3  Physically unhealthy days (mean number of days...          Number   \n",
              "4  Percentage of older adults ever told they have...               %   \n",
              "\n",
              "  DataValueTypeID  Data_Value Data_Value_Footnote  Low_Confidence_Limit  \\\n",
              "0           PRCTG        38.1                 NaN                  36.1   \n",
              "1           PRCTG        19.5                 NaN                  18.5   \n",
              "2           PRCTG        16.8                 NaN                  13.7   \n",
              "3            MEAN         4.9                 NaN                   4.5   \n",
              "4           PRCTG        40.2                 NaN                  26.9   \n",
              "\n",
              "   High_Confidence_Limit    Stratification1      Stratification2 ClassID  \\\n",
              "0                   40.1        50-64 years                  NaN     C02   \n",
              "1                   20.6        50-64 years                  NaN     C02   \n",
              "2                   20.4        50-64 years  Black, non-Hispanic     C05   \n",
              "3                    5.2  65 years or older                  NaN     C01   \n",
              "4                   55.1  65 years or older             Hispanic     C01   \n",
              "\n",
              "  TopicID QuestionID StratificationID1 StratificationID2  \n",
              "0   TNC01        Q01              5064           OVERALL  \n",
              "1   TNC02        Q02              5064           OVERALL  \n",
              "2   TMC01        Q03              5064               BLK  \n",
              "3   TOC01        Q08            65PLUS           OVERALL  \n",
              "4   TOC11        Q43            65PLUS               HIS  "
            ],
            "text/html": [
              "\n",
              "  <div id=\"df-394fea0e-1df0-4e10-9b80-945465566344\">\n",
              "    <div class=\"colab-df-container\">\n",
              "      <div>\n",
              "<style scoped>\n",
              "    .dataframe tbody tr th:only-of-type {\n",
              "        vertical-align: middle;\n",
              "    }\n",
              "\n",
              "    .dataframe tbody tr th {\n",
              "        vertical-align: top;\n",
              "    }\n",
              "\n",
              "    .dataframe thead th {\n",
              "        text-align: right;\n",
              "    }\n",
              "</style>\n",
              "<table border=\"1\" class=\"dataframe\">\n",
              "  <thead>\n",
              "    <tr style=\"text-align: right;\">\n",
              "      <th></th>\n",
              "      <th>LocationAbbr</th>\n",
              "      <th>Topic</th>\n",
              "      <th>Question</th>\n",
              "      <th>Data_Value_Unit</th>\n",
              "      <th>DataValueTypeID</th>\n",
              "      <th>Data_Value</th>\n",
              "      <th>Data_Value_Footnote</th>\n",
              "      <th>Low_Confidence_Limit</th>\n",
              "      <th>High_Confidence_Limit</th>\n",
              "      <th>Stratification1</th>\n",
              "      <th>Stratification2</th>\n",
              "      <th>ClassID</th>\n",
              "      <th>TopicID</th>\n",
              "      <th>QuestionID</th>\n",
              "      <th>StratificationID1</th>\n",
              "      <th>StratificationID2</th>\n",
              "    </tr>\n",
              "  </thead>\n",
              "  <tbody>\n",
              "    <tr>\n",
              "      <th>0</th>\n",
              "      <td>WEST</td>\n",
              "      <td>Eating 2 or more fruits daily</td>\n",
              "      <td>Percentage of older adults who are eating 2 or...</td>\n",
              "      <td>%</td>\n",
              "      <td>PRCTG</td>\n",
              "      <td>38.1</td>\n",
              "      <td>NaN</td>\n",
              "      <td>36.1</td>\n",
              "      <td>40.1</td>\n",
              "      <td>50-64 years</td>\n",
              "      <td>NaN</td>\n",
              "      <td>C02</td>\n",
              "      <td>TNC01</td>\n",
              "      <td>Q01</td>\n",
              "      <td>5064</td>\n",
              "      <td>OVERALL</td>\n",
              "    </tr>\n",
              "    <tr>\n",
              "      <th>1</th>\n",
              "      <td>NRE</td>\n",
              "      <td>Eating 3 or more vegetables daily</td>\n",
              "      <td>Percentage of older adults who are eating 3 or...</td>\n",
              "      <td>%</td>\n",
              "      <td>PRCTG</td>\n",
              "      <td>19.5</td>\n",
              "      <td>NaN</td>\n",
              "      <td>18.5</td>\n",
              "      <td>20.6</td>\n",
              "      <td>50-64 years</td>\n",
              "      <td>NaN</td>\n",
              "      <td>C02</td>\n",
              "      <td>TNC02</td>\n",
              "      <td>Q02</td>\n",
              "      <td>5064</td>\n",
              "      <td>OVERALL</td>\n",
              "    </tr>\n",
              "    <tr>\n",
              "      <th>2</th>\n",
              "      <td>MDW</td>\n",
              "      <td>Frequent mental distress</td>\n",
              "      <td>Percentage of older adults who are experiencin...</td>\n",
              "      <td>%</td>\n",
              "      <td>PRCTG</td>\n",
              "      <td>16.8</td>\n",
              "      <td>NaN</td>\n",
              "      <td>13.7</td>\n",
              "      <td>20.4</td>\n",
              "      <td>50-64 years</td>\n",
              "      <td>Black, non-Hispanic</td>\n",
              "      <td>C05</td>\n",
              "      <td>TMC01</td>\n",
              "      <td>Q03</td>\n",
              "      <td>5064</td>\n",
              "      <td>BLK</td>\n",
              "    </tr>\n",
              "    <tr>\n",
              "      <th>3</th>\n",
              "      <td>WEST</td>\n",
              "      <td>Physically unhealthy days (mean number of days)</td>\n",
              "      <td>Physically unhealthy days (mean number of days...</td>\n",
              "      <td>Number</td>\n",
              "      <td>MEAN</td>\n",
              "      <td>4.9</td>\n",
              "      <td>NaN</td>\n",
              "      <td>4.5</td>\n",
              "      <td>5.2</td>\n",
              "      <td>65 years or older</td>\n",
              "      <td>NaN</td>\n",
              "      <td>C01</td>\n",
              "      <td>TOC01</td>\n",
              "      <td>Q08</td>\n",
              "      <td>65PLUS</td>\n",
              "      <td>OVERALL</td>\n",
              "    </tr>\n",
              "    <tr>\n",
              "      <th>4</th>\n",
              "      <td>MDW</td>\n",
              "      <td>Arthritis among older adults</td>\n",
              "      <td>Percentage of older adults ever told they have...</td>\n",
              "      <td>%</td>\n",
              "      <td>PRCTG</td>\n",
              "      <td>40.2</td>\n",
              "      <td>NaN</td>\n",
              "      <td>26.9</td>\n",
              "      <td>55.1</td>\n",
              "      <td>65 years or older</td>\n",
              "      <td>Hispanic</td>\n",
              "      <td>C01</td>\n",
              "      <td>TOC11</td>\n",
              "      <td>Q43</td>\n",
              "      <td>65PLUS</td>\n",
              "      <td>HIS</td>\n",
              "    </tr>\n",
              "  </tbody>\n",
              "</table>\n",
              "</div>\n",
              "      <button class=\"colab-df-convert\" onclick=\"convertToInteractive('df-394fea0e-1df0-4e10-9b80-945465566344')\"\n",
              "              title=\"Convert this dataframe to an interactive table.\"\n",
              "              style=\"display:none;\">\n",
              "        \n",
              "  <svg xmlns=\"http://www.w3.org/2000/svg\" height=\"24px\"viewBox=\"0 0 24 24\"\n",
              "       width=\"24px\">\n",
              "    <path d=\"M0 0h24v24H0V0z\" fill=\"none\"/>\n",
              "    <path d=\"M18.56 5.44l.94 2.06.94-2.06 2.06-.94-2.06-.94-.94-2.06-.94 2.06-2.06.94zm-11 1L8.5 8.5l.94-2.06 2.06-.94-2.06-.94L8.5 2.5l-.94 2.06-2.06.94zm10 10l.94 2.06.94-2.06 2.06-.94-2.06-.94-.94-2.06-.94 2.06-2.06.94z\"/><path d=\"M17.41 7.96l-1.37-1.37c-.4-.4-.92-.59-1.43-.59-.52 0-1.04.2-1.43.59L10.3 9.45l-7.72 7.72c-.78.78-.78 2.05 0 2.83L4 21.41c.39.39.9.59 1.41.59.51 0 1.02-.2 1.41-.59l7.78-7.78 2.81-2.81c.8-.78.8-2.07 0-2.86zM5.41 20L4 18.59l7.72-7.72 1.47 1.35L5.41 20z\"/>\n",
              "  </svg>\n",
              "      </button>\n",
              "      \n",
              "  <style>\n",
              "    .colab-df-container {\n",
              "      display:flex;\n",
              "      flex-wrap:wrap;\n",
              "      gap: 12px;\n",
              "    }\n",
              "\n",
              "    .colab-df-convert {\n",
              "      background-color: #E8F0FE;\n",
              "      border: none;\n",
              "      border-radius: 50%;\n",
              "      cursor: pointer;\n",
              "      display: none;\n",
              "      fill: #1967D2;\n",
              "      height: 32px;\n",
              "      padding: 0 0 0 0;\n",
              "      width: 32px;\n",
              "    }\n",
              "\n",
              "    .colab-df-convert:hover {\n",
              "      background-color: #E2EBFA;\n",
              "      box-shadow: 0px 1px 2px rgba(60, 64, 67, 0.3), 0px 1px 3px 1px rgba(60, 64, 67, 0.15);\n",
              "      fill: #174EA6;\n",
              "    }\n",
              "\n",
              "    [theme=dark] .colab-df-convert {\n",
              "      background-color: #3B4455;\n",
              "      fill: #D2E3FC;\n",
              "    }\n",
              "\n",
              "    [theme=dark] .colab-df-convert:hover {\n",
              "      background-color: #434B5C;\n",
              "      box-shadow: 0px 1px 3px 1px rgba(0, 0, 0, 0.15);\n",
              "      filter: drop-shadow(0px 1px 2px rgba(0, 0, 0, 0.3));\n",
              "      fill: #FFFFFF;\n",
              "    }\n",
              "  </style>\n",
              "\n",
              "      <script>\n",
              "        const buttonEl =\n",
              "          document.querySelector('#df-394fea0e-1df0-4e10-9b80-945465566344 button.colab-df-convert');\n",
              "        buttonEl.style.display =\n",
              "          google.colab.kernel.accessAllowed ? 'block' : 'none';\n",
              "\n",
              "        async function convertToInteractive(key) {\n",
              "          const element = document.querySelector('#df-394fea0e-1df0-4e10-9b80-945465566344');\n",
              "          const dataTable =\n",
              "            await google.colab.kernel.invokeFunction('convertToInteractive',\n",
              "                                                     [key], {});\n",
              "          if (!dataTable) return;\n",
              "\n",
              "          const docLinkHtml = 'Like what you see? Visit the ' +\n",
              "            '<a target=\"_blank\" href=https://colab.research.google.com/notebooks/data_table.ipynb>data table notebook</a>'\n",
              "            + ' to learn more about interactive tables.';\n",
              "          element.innerHTML = '';\n",
              "          dataTable['output_type'] = 'display_data';\n",
              "          await google.colab.output.renderOutput(dataTable, element);\n",
              "          const docLink = document.createElement('div');\n",
              "          docLink.innerHTML = docLinkHtml;\n",
              "          element.appendChild(docLink);\n",
              "        }\n",
              "      </script>\n",
              "    </div>\n",
              "  </div>\n",
              "  "
            ]
          },
          "metadata": {},
          "execution_count": 271
        }
      ]
    },
    {
      "cell_type": "code",
      "source": [
        "df.describe() #Principales indicadores estadísticos del data set"
      ],
      "metadata": {
        "colab": {
          "base_uri": "https://localhost:8080/",
          "height": 300
        },
        "id": "_1pZCNSeMq7B",
        "outputId": "1fba8f77-7b72-4e20-9aad-8716c83eafa7"
      },
      "execution_count": 272,
      "outputs": [
        {
          "output_type": "execute_result",
          "data": {
            "text/plain": [
              "          Data_Value  Low_Confidence_Limit  High_Confidence_Limit\n",
              "count  169302.000000         169126.000000          169126.000000\n",
              "mean       37.328349             32.698188              42.243840\n",
              "std        25.213181             24.288904              26.165896\n",
              "min         0.000000             -0.700000               1.400000\n",
              "25%        15.700000             12.400000              19.400000\n",
              "50%        32.300000             26.600000              38.300000\n",
              "75%        56.000000             48.400000              64.000000\n",
              "max       100.000000             99.600000             100.000000"
            ],
            "text/html": [
              "\n",
              "  <div id=\"df-1ad073c2-1e62-47b8-85a8-349d59bc2b89\">\n",
              "    <div class=\"colab-df-container\">\n",
              "      <div>\n",
              "<style scoped>\n",
              "    .dataframe tbody tr th:only-of-type {\n",
              "        vertical-align: middle;\n",
              "    }\n",
              "\n",
              "    .dataframe tbody tr th {\n",
              "        vertical-align: top;\n",
              "    }\n",
              "\n",
              "    .dataframe thead th {\n",
              "        text-align: right;\n",
              "    }\n",
              "</style>\n",
              "<table border=\"1\" class=\"dataframe\">\n",
              "  <thead>\n",
              "    <tr style=\"text-align: right;\">\n",
              "      <th></th>\n",
              "      <th>Data_Value</th>\n",
              "      <th>Low_Confidence_Limit</th>\n",
              "      <th>High_Confidence_Limit</th>\n",
              "    </tr>\n",
              "  </thead>\n",
              "  <tbody>\n",
              "    <tr>\n",
              "      <th>count</th>\n",
              "      <td>169302.000000</td>\n",
              "      <td>169126.000000</td>\n",
              "      <td>169126.000000</td>\n",
              "    </tr>\n",
              "    <tr>\n",
              "      <th>mean</th>\n",
              "      <td>37.328349</td>\n",
              "      <td>32.698188</td>\n",
              "      <td>42.243840</td>\n",
              "    </tr>\n",
              "    <tr>\n",
              "      <th>std</th>\n",
              "      <td>25.213181</td>\n",
              "      <td>24.288904</td>\n",
              "      <td>26.165896</td>\n",
              "    </tr>\n",
              "    <tr>\n",
              "      <th>min</th>\n",
              "      <td>0.000000</td>\n",
              "      <td>-0.700000</td>\n",
              "      <td>1.400000</td>\n",
              "    </tr>\n",
              "    <tr>\n",
              "      <th>25%</th>\n",
              "      <td>15.700000</td>\n",
              "      <td>12.400000</td>\n",
              "      <td>19.400000</td>\n",
              "    </tr>\n",
              "    <tr>\n",
              "      <th>50%</th>\n",
              "      <td>32.300000</td>\n",
              "      <td>26.600000</td>\n",
              "      <td>38.300000</td>\n",
              "    </tr>\n",
              "    <tr>\n",
              "      <th>75%</th>\n",
              "      <td>56.000000</td>\n",
              "      <td>48.400000</td>\n",
              "      <td>64.000000</td>\n",
              "    </tr>\n",
              "    <tr>\n",
              "      <th>max</th>\n",
              "      <td>100.000000</td>\n",
              "      <td>99.600000</td>\n",
              "      <td>100.000000</td>\n",
              "    </tr>\n",
              "  </tbody>\n",
              "</table>\n",
              "</div>\n",
              "      <button class=\"colab-df-convert\" onclick=\"convertToInteractive('df-1ad073c2-1e62-47b8-85a8-349d59bc2b89')\"\n",
              "              title=\"Convert this dataframe to an interactive table.\"\n",
              "              style=\"display:none;\">\n",
              "        \n",
              "  <svg xmlns=\"http://www.w3.org/2000/svg\" height=\"24px\"viewBox=\"0 0 24 24\"\n",
              "       width=\"24px\">\n",
              "    <path d=\"M0 0h24v24H0V0z\" fill=\"none\"/>\n",
              "    <path d=\"M18.56 5.44l.94 2.06.94-2.06 2.06-.94-2.06-.94-.94-2.06-.94 2.06-2.06.94zm-11 1L8.5 8.5l.94-2.06 2.06-.94-2.06-.94L8.5 2.5l-.94 2.06-2.06.94zm10 10l.94 2.06.94-2.06 2.06-.94-2.06-.94-.94-2.06-.94 2.06-2.06.94z\"/><path d=\"M17.41 7.96l-1.37-1.37c-.4-.4-.92-.59-1.43-.59-.52 0-1.04.2-1.43.59L10.3 9.45l-7.72 7.72c-.78.78-.78 2.05 0 2.83L4 21.41c.39.39.9.59 1.41.59.51 0 1.02-.2 1.41-.59l7.78-7.78 2.81-2.81c.8-.78.8-2.07 0-2.86zM5.41 20L4 18.59l7.72-7.72 1.47 1.35L5.41 20z\"/>\n",
              "  </svg>\n",
              "      </button>\n",
              "      \n",
              "  <style>\n",
              "    .colab-df-container {\n",
              "      display:flex;\n",
              "      flex-wrap:wrap;\n",
              "      gap: 12px;\n",
              "    }\n",
              "\n",
              "    .colab-df-convert {\n",
              "      background-color: #E8F0FE;\n",
              "      border: none;\n",
              "      border-radius: 50%;\n",
              "      cursor: pointer;\n",
              "      display: none;\n",
              "      fill: #1967D2;\n",
              "      height: 32px;\n",
              "      padding: 0 0 0 0;\n",
              "      width: 32px;\n",
              "    }\n",
              "\n",
              "    .colab-df-convert:hover {\n",
              "      background-color: #E2EBFA;\n",
              "      box-shadow: 0px 1px 2px rgba(60, 64, 67, 0.3), 0px 1px 3px 1px rgba(60, 64, 67, 0.15);\n",
              "      fill: #174EA6;\n",
              "    }\n",
              "\n",
              "    [theme=dark] .colab-df-convert {\n",
              "      background-color: #3B4455;\n",
              "      fill: #D2E3FC;\n",
              "    }\n",
              "\n",
              "    [theme=dark] .colab-df-convert:hover {\n",
              "      background-color: #434B5C;\n",
              "      box-shadow: 0px 1px 3px 1px rgba(0, 0, 0, 0.15);\n",
              "      filter: drop-shadow(0px 1px 2px rgba(0, 0, 0, 0.3));\n",
              "      fill: #FFFFFF;\n",
              "    }\n",
              "  </style>\n",
              "\n",
              "      <script>\n",
              "        const buttonEl =\n",
              "          document.querySelector('#df-1ad073c2-1e62-47b8-85a8-349d59bc2b89 button.colab-df-convert');\n",
              "        buttonEl.style.display =\n",
              "          google.colab.kernel.accessAllowed ? 'block' : 'none';\n",
              "\n",
              "        async function convertToInteractive(key) {\n",
              "          const element = document.querySelector('#df-1ad073c2-1e62-47b8-85a8-349d59bc2b89');\n",
              "          const dataTable =\n",
              "            await google.colab.kernel.invokeFunction('convertToInteractive',\n",
              "                                                     [key], {});\n",
              "          if (!dataTable) return;\n",
              "\n",
              "          const docLinkHtml = 'Like what you see? Visit the ' +\n",
              "            '<a target=\"_blank\" href=https://colab.research.google.com/notebooks/data_table.ipynb>data table notebook</a>'\n",
              "            + ' to learn more about interactive tables.';\n",
              "          element.innerHTML = '';\n",
              "          dataTable['output_type'] = 'display_data';\n",
              "          await google.colab.output.renderOutput(dataTable, element);\n",
              "          const docLink = document.createElement('div');\n",
              "          docLink.innerHTML = docLinkHtml;\n",
              "          element.appendChild(docLink);\n",
              "        }\n",
              "      </script>\n",
              "    </div>\n",
              "  </div>\n",
              "  "
            ]
          },
          "metadata": {},
          "execution_count": 272
        }
      ]
    },
    {
      "cell_type": "markdown",
      "source": [
        "# **PASO 2: SELECCIONAR CARACTERÍSTICAS X & OBJETIVO y**"
      ],
      "metadata": {
        "id": "0TZlPaAZVsdJ"
      }
    },
    {
      "cell_type": "code",
      "source": [
        "from sklearn.model_selection import train_test_split #Importar bibliotecas necesarias\n",
        "\n",
        "# En la página de la que saqué el dataset no indicaban cuál es el campo objetivo.\n",
        "# Elegí el campo ClassID que luce como una campo de clasificación\n",
        "# Supongo que el objetivo de las llamadas a los pacientes es detectar probabilidades de tener la enfermedad\n",
        "\n",
        "X = df.drop(columns=['ClassID'])\n",
        "y = df['ClassID'] \n",
        "\n",
        "X_train, X_test, y_train, y_test = train_test_split(X, y, random_state=42) # Realizar el Train Test Split"
      ],
      "metadata": {
        "id": "NL4Dk4fAVfXW"
      },
      "execution_count": 273,
      "outputs": []
    },
    {
      "cell_type": "markdown",
      "source": [
        "# **PASO 3: IMPUTAR VALORES FALTANTES**"
      ],
      "metadata": {
        "id": "Kjb1lQcDUEtk"
      }
    },
    {
      "cell_type": "code",
      "source": [
        "from sklearn.compose import make_column_selector, make_column_transformer\n",
        "from sklearn.impute import SimpleImputer\n",
        "from sklearn import set_config\n",
        "set_config(display='diagram')"
      ],
      "metadata": {
        "id": "e0Y6QK0hUB5c"
      },
      "execution_count": 274,
      "outputs": []
    },
    {
      "cell_type": "code",
      "source": [
        "print(df.isna().sum().sum(), '=> Valores faltantes') #Resumen valores faltanets"
      ],
      "metadata": {
        "colab": {
          "base_uri": "https://localhost:8080/"
        },
        "id": "69PgBl4uUPA-",
        "outputId": "a5055ceb-2fc5-4f5a-fab7-e97431f21cf3"
      },
      "execution_count": 275,
      "outputs": [
        {
          "output_type": "stream",
          "name": "stdout",
          "text": [
            "429456 => Valores faltantes\n"
          ]
        }
      ]
    },
    {
      "cell_type": "code",
      "source": [
        "df[df.isna().any(axis=1)].shape #Filas y columnas con al menos un valor faltante"
      ],
      "metadata": {
        "colab": {
          "base_uri": "https://localhost:8080/"
        },
        "id": "yEXf6oI6NMt1",
        "outputId": "6ff62c35-942a-4403-de69-a615861e044c"
      },
      "execution_count": 276,
      "outputs": [
        {
          "output_type": "execute_result",
          "data": {
            "text/plain": [
              "(235977, 16)"
            ]
          },
          "metadata": {},
          "execution_count": 276
        }
      ]
    },
    {
      "cell_type": "code",
      "source": [
        "# instancien los selectores a nuestros tipos de datos numéricos y categóricos\n",
        "num_selector = make_column_selector(dtype_include='number')\n",
        "cat_selector = make_column_selector(dtype_include='object')\n",
        "\n",
        "# seleccionen las columnas numéricas de cada tipo\n",
        "num_columns = num_selector(X_train)\n",
        "cat_columns = cat_selector(X_train)\n",
        "\n",
        "# comprueben las listas\n",
        "print('numeric columns are', num_columns)\n",
        "print('categorical columns are', cat_columns)"
      ],
      "metadata": {
        "colab": {
          "base_uri": "https://localhost:8080/"
        },
        "id": "9NwAjMINWghI",
        "outputId": "a20351f0-f19d-4f83-c3a9-e44cb3b4c610"
      },
      "execution_count": 277,
      "outputs": [
        {
          "output_type": "stream",
          "name": "stdout",
          "text": [
            "numeric columns are ['Data_Value', 'Low_Confidence_Limit', 'High_Confidence_Limit']\n",
            "categorical columns are ['LocationAbbr', 'Topic', 'Question', 'Data_Value_Unit', 'DataValueTypeID', 'Data_Value_Footnote', 'Stratification1', 'Stratification2', 'TopicID', 'QuestionID', 'StratificationID1', 'StratificationID2']\n"
          ]
        }
      ]
    },
    {
      "cell_type": "code",
      "source": [
        "# Entender las columnas con valores faltantes: son numéricos florantes, por eso elijo la estrategia mean\n",
        "\n",
        "# aíslen las columnas numéricas\n",
        "df_num = df[num_columns]\n",
        "# aíslen las columnas con datos faltantes\n",
        "df_num.loc[:, df_num.isna().any()]"
      ],
      "metadata": {
        "colab": {
          "base_uri": "https://localhost:8080/",
          "height": 424
        },
        "id": "bnQYSvT-aWum",
        "outputId": "d6ccac0b-cba6-4241-adc3-13ac21df1465"
      },
      "execution_count": 278,
      "outputs": [
        {
          "output_type": "execute_result",
          "data": {
            "text/plain": [
              "        Data_Value  Low_Confidence_Limit  High_Confidence_Limit\n",
              "0             38.1                  36.1                   40.1\n",
              "1             19.5                  18.5                   20.6\n",
              "2             16.8                  13.7                   20.4\n",
              "3              4.9                   4.5                    5.2\n",
              "4             40.2                  26.9                   55.1\n",
              "...            ...                   ...                    ...\n",
              "250932        26.0                  22.2                   30.0\n",
              "250933         NaN                   NaN                    NaN\n",
              "250934        15.3                  12.6                   18.5\n",
              "250935        47.2                  42.9                   51.6\n",
              "250936        24.2                  19.8                   29.3\n",
              "\n",
              "[250937 rows x 3 columns]"
            ],
            "text/html": [
              "\n",
              "  <div id=\"df-915e36f8-235b-4a30-877e-8bf9f3f23732\">\n",
              "    <div class=\"colab-df-container\">\n",
              "      <div>\n",
              "<style scoped>\n",
              "    .dataframe tbody tr th:only-of-type {\n",
              "        vertical-align: middle;\n",
              "    }\n",
              "\n",
              "    .dataframe tbody tr th {\n",
              "        vertical-align: top;\n",
              "    }\n",
              "\n",
              "    .dataframe thead th {\n",
              "        text-align: right;\n",
              "    }\n",
              "</style>\n",
              "<table border=\"1\" class=\"dataframe\">\n",
              "  <thead>\n",
              "    <tr style=\"text-align: right;\">\n",
              "      <th></th>\n",
              "      <th>Data_Value</th>\n",
              "      <th>Low_Confidence_Limit</th>\n",
              "      <th>High_Confidence_Limit</th>\n",
              "    </tr>\n",
              "  </thead>\n",
              "  <tbody>\n",
              "    <tr>\n",
              "      <th>0</th>\n",
              "      <td>38.1</td>\n",
              "      <td>36.1</td>\n",
              "      <td>40.1</td>\n",
              "    </tr>\n",
              "    <tr>\n",
              "      <th>1</th>\n",
              "      <td>19.5</td>\n",
              "      <td>18.5</td>\n",
              "      <td>20.6</td>\n",
              "    </tr>\n",
              "    <tr>\n",
              "      <th>2</th>\n",
              "      <td>16.8</td>\n",
              "      <td>13.7</td>\n",
              "      <td>20.4</td>\n",
              "    </tr>\n",
              "    <tr>\n",
              "      <th>3</th>\n",
              "      <td>4.9</td>\n",
              "      <td>4.5</td>\n",
              "      <td>5.2</td>\n",
              "    </tr>\n",
              "    <tr>\n",
              "      <th>4</th>\n",
              "      <td>40.2</td>\n",
              "      <td>26.9</td>\n",
              "      <td>55.1</td>\n",
              "    </tr>\n",
              "    <tr>\n",
              "      <th>...</th>\n",
              "      <td>...</td>\n",
              "      <td>...</td>\n",
              "      <td>...</td>\n",
              "    </tr>\n",
              "    <tr>\n",
              "      <th>250932</th>\n",
              "      <td>26.0</td>\n",
              "      <td>22.2</td>\n",
              "      <td>30.0</td>\n",
              "    </tr>\n",
              "    <tr>\n",
              "      <th>250933</th>\n",
              "      <td>NaN</td>\n",
              "      <td>NaN</td>\n",
              "      <td>NaN</td>\n",
              "    </tr>\n",
              "    <tr>\n",
              "      <th>250934</th>\n",
              "      <td>15.3</td>\n",
              "      <td>12.6</td>\n",
              "      <td>18.5</td>\n",
              "    </tr>\n",
              "    <tr>\n",
              "      <th>250935</th>\n",
              "      <td>47.2</td>\n",
              "      <td>42.9</td>\n",
              "      <td>51.6</td>\n",
              "    </tr>\n",
              "    <tr>\n",
              "      <th>250936</th>\n",
              "      <td>24.2</td>\n",
              "      <td>19.8</td>\n",
              "      <td>29.3</td>\n",
              "    </tr>\n",
              "  </tbody>\n",
              "</table>\n",
              "<p>250937 rows × 3 columns</p>\n",
              "</div>\n",
              "      <button class=\"colab-df-convert\" onclick=\"convertToInteractive('df-915e36f8-235b-4a30-877e-8bf9f3f23732')\"\n",
              "              title=\"Convert this dataframe to an interactive table.\"\n",
              "              style=\"display:none;\">\n",
              "        \n",
              "  <svg xmlns=\"http://www.w3.org/2000/svg\" height=\"24px\"viewBox=\"0 0 24 24\"\n",
              "       width=\"24px\">\n",
              "    <path d=\"M0 0h24v24H0V0z\" fill=\"none\"/>\n",
              "    <path d=\"M18.56 5.44l.94 2.06.94-2.06 2.06-.94-2.06-.94-.94-2.06-.94 2.06-2.06.94zm-11 1L8.5 8.5l.94-2.06 2.06-.94-2.06-.94L8.5 2.5l-.94 2.06-2.06.94zm10 10l.94 2.06.94-2.06 2.06-.94-2.06-.94-.94-2.06-.94 2.06-2.06.94z\"/><path d=\"M17.41 7.96l-1.37-1.37c-.4-.4-.92-.59-1.43-.59-.52 0-1.04.2-1.43.59L10.3 9.45l-7.72 7.72c-.78.78-.78 2.05 0 2.83L4 21.41c.39.39.9.59 1.41.59.51 0 1.02-.2 1.41-.59l7.78-7.78 2.81-2.81c.8-.78.8-2.07 0-2.86zM5.41 20L4 18.59l7.72-7.72 1.47 1.35L5.41 20z\"/>\n",
              "  </svg>\n",
              "      </button>\n",
              "      \n",
              "  <style>\n",
              "    .colab-df-container {\n",
              "      display:flex;\n",
              "      flex-wrap:wrap;\n",
              "      gap: 12px;\n",
              "    }\n",
              "\n",
              "    .colab-df-convert {\n",
              "      background-color: #E8F0FE;\n",
              "      border: none;\n",
              "      border-radius: 50%;\n",
              "      cursor: pointer;\n",
              "      display: none;\n",
              "      fill: #1967D2;\n",
              "      height: 32px;\n",
              "      padding: 0 0 0 0;\n",
              "      width: 32px;\n",
              "    }\n",
              "\n",
              "    .colab-df-convert:hover {\n",
              "      background-color: #E2EBFA;\n",
              "      box-shadow: 0px 1px 2px rgba(60, 64, 67, 0.3), 0px 1px 3px 1px rgba(60, 64, 67, 0.15);\n",
              "      fill: #174EA6;\n",
              "    }\n",
              "\n",
              "    [theme=dark] .colab-df-convert {\n",
              "      background-color: #3B4455;\n",
              "      fill: #D2E3FC;\n",
              "    }\n",
              "\n",
              "    [theme=dark] .colab-df-convert:hover {\n",
              "      background-color: #434B5C;\n",
              "      box-shadow: 0px 1px 3px 1px rgba(0, 0, 0, 0.15);\n",
              "      filter: drop-shadow(0px 1px 2px rgba(0, 0, 0, 0.3));\n",
              "      fill: #FFFFFF;\n",
              "    }\n",
              "  </style>\n",
              "\n",
              "      <script>\n",
              "        const buttonEl =\n",
              "          document.querySelector('#df-915e36f8-235b-4a30-877e-8bf9f3f23732 button.colab-df-convert');\n",
              "        buttonEl.style.display =\n",
              "          google.colab.kernel.accessAllowed ? 'block' : 'none';\n",
              "\n",
              "        async function convertToInteractive(key) {\n",
              "          const element = document.querySelector('#df-915e36f8-235b-4a30-877e-8bf9f3f23732');\n",
              "          const dataTable =\n",
              "            await google.colab.kernel.invokeFunction('convertToInteractive',\n",
              "                                                     [key], {});\n",
              "          if (!dataTable) return;\n",
              "\n",
              "          const docLinkHtml = 'Like what you see? Visit the ' +\n",
              "            '<a target=\"_blank\" href=https://colab.research.google.com/notebooks/data_table.ipynb>data table notebook</a>'\n",
              "            + ' to learn more about interactive tables.';\n",
              "          element.innerHTML = '';\n",
              "          dataTable['output_type'] = 'display_data';\n",
              "          await google.colab.output.renderOutput(dataTable, element);\n",
              "          const docLink = document.createElement('div');\n",
              "          docLink.innerHTML = docLinkHtml;\n",
              "          element.appendChild(docLink);\n",
              "        }\n",
              "      </script>\n",
              "    </div>\n",
              "  </div>\n",
              "  "
            ]
          },
          "metadata": {},
          "execution_count": 278
        }
      ]
    },
    {
      "cell_type": "code",
      "source": [
        "# Comprobar a qué columnas le faltan datos 'True':\n",
        "X_train.isna().any()"
      ],
      "metadata": {
        "colab": {
          "base_uri": "https://localhost:8080/"
        },
        "id": "K5dM8gJYa-mf",
        "outputId": "b0da25b7-2092-48b8-8648-bd32ef32c996"
      },
      "execution_count": 279,
      "outputs": [
        {
          "output_type": "execute_result",
          "data": {
            "text/plain": [
              "LocationAbbr             False\n",
              "Topic                    False\n",
              "Question                 False\n",
              "Data_Value_Unit          False\n",
              "DataValueTypeID          False\n",
              "Data_Value                True\n",
              "Data_Value_Footnote       True\n",
              "Low_Confidence_Limit      True\n",
              "High_Confidence_Limit     True\n",
              "Stratification1          False\n",
              "Stratification2           True\n",
              "TopicID                  False\n",
              "QuestionID               False\n",
              "StratificationID1        False\n",
              "StratificationID2        False\n",
              "dtype: bool"
            ]
          },
          "metadata": {},
          "execution_count": 279
        }
      ]
    },
    {
      "cell_type": "code",
      "source": [
        "df.info() #Info del DataFrame para recordar el tipo de campo para seleccionar la estrategia de imputación\n",
        "\n",
        "# Data_Value                float64 => mean porque es numérico y le pondrán un float\n",
        "# Low_Confidence_Limit      float64 => mean porque es numérico y le pondrán un float\n",
        "# High_Confidence_Limit     float64 => mean porque es numérico y le pondrán un float\n",
        "# Para columnas numéricas usaré 'mean'\n",
        "\n",
        "# Data_Value_Footnote       object => most_frequent es texto\n",
        "# Stratification2           object => most_frequent es texto\n",
        "# TopicID                   object => most_frequent es texto\n",
        "# QuestionID                object => most_frequent es texto\n",
        "# StratificationID1         object => most_frequent es texto\n",
        "# StratificationID2         object => most_frequent es texto\n",
        "# Para columnas categóricas usaré 'mean'"
      ],
      "metadata": {
        "colab": {
          "base_uri": "https://localhost:8080/"
        },
        "id": "im_wn7LpRXBF",
        "outputId": "7487cdd6-0a44-4aa3-a62a-4dab2a7aa371"
      },
      "execution_count": 280,
      "outputs": [
        {
          "output_type": "stream",
          "name": "stdout",
          "text": [
            "<class 'pandas.core.frame.DataFrame'>\n",
            "RangeIndex: 250937 entries, 0 to 250936\n",
            "Data columns (total 16 columns):\n",
            " #   Column                 Non-Null Count   Dtype  \n",
            "---  ------                 --------------   -----  \n",
            " 0   LocationAbbr           250937 non-null  object \n",
            " 1   Topic                  250937 non-null  object \n",
            " 2   Question               250937 non-null  object \n",
            " 3   Data_Value_Unit        250937 non-null  object \n",
            " 4   DataValueTypeID        250937 non-null  object \n",
            " 5   Data_Value             169302 non-null  float64\n",
            " 6   Data_Value_Footnote    99114 non-null   object \n",
            " 7   Low_Confidence_Limit   169126 non-null  float64\n",
            " 8   High_Confidence_Limit  169126 non-null  float64\n",
            " 9   Stratification1        250937 non-null  object \n",
            " 10  Stratification2        218561 non-null  object \n",
            " 11  ClassID                250937 non-null  object \n",
            " 12  TopicID                250937 non-null  object \n",
            " 13  QuestionID             250937 non-null  object \n",
            " 14  StratificationID1      250937 non-null  object \n",
            " 15  StratificationID2      250937 non-null  object \n",
            "dtypes: float64(3), object(13)\n",
            "memory usage: 30.6+ MB\n"
          ]
        }
      ]
    },
    {
      "cell_type": "code",
      "source": [
        "#=> Código tomado de lección Coding Dojo 'Simpleimputer': https://login.codingdojo.com/m/503/12406/86756\n",
        "# Instanciar objetos SimpleImputer con las estrategias de imputación que queremos utilizar.\n",
        "\n",
        "# Instanciar SimpleImputers con estrategias most_frequent y median\n",
        "freq_imputer = SimpleImputer(strategy='most_frequent') # Para columnas categóricas\n",
        "mean_imputer = SimpleImputer(strategy='mean')"
      ],
      "metadata": {
        "id": "FPDsC7k2eQr0"
      },
      "execution_count": 281,
      "outputs": []
    },
    {
      "cell_type": "code",
      "source": [
        "#=> Código tomado de lección Coding Dojo 'Simpleimputer': https://login.codingdojo.com/m/503/12406/86756\n",
        "\n",
        "# Utilizar ColumnTransformer para aplicar cada objeto SimpleImputer distinto a las columnas adecuadas\n",
        "\n",
        "# creen tuplas de (imputer, selector) para cada tipo de dato\n",
        "num_tuple = (mean_imputer, num_selector)\n",
        "cat_tuple = (freq_imputer, cat_selector)\n",
        "\n",
        "# instanciación de ColumnTransformer\n",
        "col_transformer = make_column_transformer(num_tuple, cat_tuple, remainder='passthrough')\n",
        "col_transformer"
      ],
      "metadata": {
        "colab": {
          "base_uri": "https://localhost:8080/",
          "height": 118
        },
        "id": "BjihAu7deR_E",
        "outputId": "12c9d16a-c444-4366-fa68-f8e439425619"
      },
      "execution_count": 282,
      "outputs": [
        {
          "output_type": "execute_result",
          "data": {
            "text/plain": [
              "ColumnTransformer(remainder='passthrough',\n",
              "                  transformers=[('simpleimputer-1', SimpleImputer(),\n",
              "                                 <sklearn.compose._column_transformer.make_column_selector object at 0x7f5c95b9c490>),\n",
              "                                ('simpleimputer-2',\n",
              "                                 SimpleImputer(strategy='most_frequent'),\n",
              "                                 <sklearn.compose._column_transformer.make_column_selector object at 0x7f5c95b9f130>)])"
            ],
            "text/html": [
              "<style>#sk-container-id-2 {color: black;background-color: white;}#sk-container-id-2 pre{padding: 0;}#sk-container-id-2 div.sk-toggleable {background-color: white;}#sk-container-id-2 label.sk-toggleable__label {cursor: pointer;display: block;width: 100%;margin-bottom: 0;padding: 0.3em;box-sizing: border-box;text-align: center;}#sk-container-id-2 label.sk-toggleable__label-arrow:before {content: \"▸\";float: left;margin-right: 0.25em;color: #696969;}#sk-container-id-2 label.sk-toggleable__label-arrow:hover:before {color: black;}#sk-container-id-2 div.sk-estimator:hover label.sk-toggleable__label-arrow:before {color: black;}#sk-container-id-2 div.sk-toggleable__content {max-height: 0;max-width: 0;overflow: hidden;text-align: left;background-color: #f0f8ff;}#sk-container-id-2 div.sk-toggleable__content pre {margin: 0.2em;color: black;border-radius: 0.25em;background-color: #f0f8ff;}#sk-container-id-2 input.sk-toggleable__control:checked~div.sk-toggleable__content {max-height: 200px;max-width: 100%;overflow: auto;}#sk-container-id-2 input.sk-toggleable__control:checked~label.sk-toggleable__label-arrow:before {content: \"▾\";}#sk-container-id-2 div.sk-estimator input.sk-toggleable__control:checked~label.sk-toggleable__label {background-color: #d4ebff;}#sk-container-id-2 div.sk-label input.sk-toggleable__control:checked~label.sk-toggleable__label {background-color: #d4ebff;}#sk-container-id-2 input.sk-hidden--visually {border: 0;clip: rect(1px 1px 1px 1px);clip: rect(1px, 1px, 1px, 1px);height: 1px;margin: -1px;overflow: hidden;padding: 0;position: absolute;width: 1px;}#sk-container-id-2 div.sk-estimator {font-family: monospace;background-color: #f0f8ff;border: 1px dotted black;border-radius: 0.25em;box-sizing: border-box;margin-bottom: 0.5em;}#sk-container-id-2 div.sk-estimator:hover {background-color: #d4ebff;}#sk-container-id-2 div.sk-parallel-item::after {content: \"\";width: 100%;border-bottom: 1px solid gray;flex-grow: 1;}#sk-container-id-2 div.sk-label:hover label.sk-toggleable__label {background-color: #d4ebff;}#sk-container-id-2 div.sk-serial::before {content: \"\";position: absolute;border-left: 1px solid gray;box-sizing: border-box;top: 0;bottom: 0;left: 50%;z-index: 0;}#sk-container-id-2 div.sk-serial {display: flex;flex-direction: column;align-items: center;background-color: white;padding-right: 0.2em;padding-left: 0.2em;position: relative;}#sk-container-id-2 div.sk-item {position: relative;z-index: 1;}#sk-container-id-2 div.sk-parallel {display: flex;align-items: stretch;justify-content: center;background-color: white;position: relative;}#sk-container-id-2 div.sk-item::before, #sk-container-id-2 div.sk-parallel-item::before {content: \"\";position: absolute;border-left: 1px solid gray;box-sizing: border-box;top: 0;bottom: 0;left: 50%;z-index: -1;}#sk-container-id-2 div.sk-parallel-item {display: flex;flex-direction: column;z-index: 1;position: relative;background-color: white;}#sk-container-id-2 div.sk-parallel-item:first-child::after {align-self: flex-end;width: 50%;}#sk-container-id-2 div.sk-parallel-item:last-child::after {align-self: flex-start;width: 50%;}#sk-container-id-2 div.sk-parallel-item:only-child::after {width: 0;}#sk-container-id-2 div.sk-dashed-wrapped {border: 1px dashed gray;margin: 0 0.4em 0.5em 0.4em;box-sizing: border-box;padding-bottom: 0.4em;background-color: white;}#sk-container-id-2 div.sk-label label {font-family: monospace;font-weight: bold;display: inline-block;line-height: 1.2em;}#sk-container-id-2 div.sk-label-container {text-align: center;}#sk-container-id-2 div.sk-container {/* jupyter's `normalize.less` sets `[hidden] { display: none; }` but bootstrap.min.css set `[hidden] { display: none !important; }` so we also need the `!important` here to be able to override the default hidden behavior on the sphinx rendered scikit-learn.org. See: https://github.com/scikit-learn/scikit-learn/issues/21755 */display: inline-block !important;position: relative;}#sk-container-id-2 div.sk-text-repr-fallback {display: none;}</style><div id=\"sk-container-id-2\" class=\"sk-top-container\"><div class=\"sk-text-repr-fallback\"><pre>ColumnTransformer(remainder=&#x27;passthrough&#x27;,\n",
              "                  transformers=[(&#x27;simpleimputer-1&#x27;, SimpleImputer(),\n",
              "                                 &lt;sklearn.compose._column_transformer.make_column_selector object at 0x7f5c95b9c490&gt;),\n",
              "                                (&#x27;simpleimputer-2&#x27;,\n",
              "                                 SimpleImputer(strategy=&#x27;most_frequent&#x27;),\n",
              "                                 &lt;sklearn.compose._column_transformer.make_column_selector object at 0x7f5c95b9f130&gt;)])</pre><b>In a Jupyter environment, please rerun this cell to show the HTML representation or trust the notebook. <br />On GitHub, the HTML representation is unable to render, please try loading this page with nbviewer.org.</b></div><div class=\"sk-container\" hidden><div class=\"sk-item sk-dashed-wrapped\"><div class=\"sk-label-container\"><div class=\"sk-label sk-toggleable\"><input class=\"sk-toggleable__control sk-hidden--visually\" id=\"sk-estimator-id-8\" type=\"checkbox\" ><label for=\"sk-estimator-id-8\" class=\"sk-toggleable__label sk-toggleable__label-arrow\">ColumnTransformer</label><div class=\"sk-toggleable__content\"><pre>ColumnTransformer(remainder=&#x27;passthrough&#x27;,\n",
              "                  transformers=[(&#x27;simpleimputer-1&#x27;, SimpleImputer(),\n",
              "                                 &lt;sklearn.compose._column_transformer.make_column_selector object at 0x7f5c95b9c490&gt;),\n",
              "                                (&#x27;simpleimputer-2&#x27;,\n",
              "                                 SimpleImputer(strategy=&#x27;most_frequent&#x27;),\n",
              "                                 &lt;sklearn.compose._column_transformer.make_column_selector object at 0x7f5c95b9f130&gt;)])</pre></div></div></div><div class=\"sk-parallel\"><div class=\"sk-parallel-item\"><div class=\"sk-item\"><div class=\"sk-label-container\"><div class=\"sk-label sk-toggleable\"><input class=\"sk-toggleable__control sk-hidden--visually\" id=\"sk-estimator-id-9\" type=\"checkbox\" ><label for=\"sk-estimator-id-9\" class=\"sk-toggleable__label sk-toggleable__label-arrow\">simpleimputer-1</label><div class=\"sk-toggleable__content\"><pre>&lt;sklearn.compose._column_transformer.make_column_selector object at 0x7f5c95b9c490&gt;</pre></div></div></div><div class=\"sk-serial\"><div class=\"sk-item\"><div class=\"sk-estimator sk-toggleable\"><input class=\"sk-toggleable__control sk-hidden--visually\" id=\"sk-estimator-id-10\" type=\"checkbox\" ><label for=\"sk-estimator-id-10\" class=\"sk-toggleable__label sk-toggleable__label-arrow\">SimpleImputer</label><div class=\"sk-toggleable__content\"><pre>SimpleImputer()</pre></div></div></div></div></div></div><div class=\"sk-parallel-item\"><div class=\"sk-item\"><div class=\"sk-label-container\"><div class=\"sk-label sk-toggleable\"><input class=\"sk-toggleable__control sk-hidden--visually\" id=\"sk-estimator-id-11\" type=\"checkbox\" ><label for=\"sk-estimator-id-11\" class=\"sk-toggleable__label sk-toggleable__label-arrow\">simpleimputer-2</label><div class=\"sk-toggleable__content\"><pre>&lt;sklearn.compose._column_transformer.make_column_selector object at 0x7f5c95b9f130&gt;</pre></div></div></div><div class=\"sk-serial\"><div class=\"sk-item\"><div class=\"sk-estimator sk-toggleable\"><input class=\"sk-toggleable__control sk-hidden--visually\" id=\"sk-estimator-id-12\" type=\"checkbox\" ><label for=\"sk-estimator-id-12\" class=\"sk-toggleable__label sk-toggleable__label-arrow\">SimpleImputer</label><div class=\"sk-toggleable__content\"><pre>SimpleImputer(strategy=&#x27;most_frequent&#x27;)</pre></div></div></div></div></div></div><div class=\"sk-parallel-item\"><div class=\"sk-item\"><div class=\"sk-label-container\"><div class=\"sk-label sk-toggleable\"><input class=\"sk-toggleable__control sk-hidden--visually\" id=\"sk-estimator-id-13\" type=\"checkbox\" ><label for=\"sk-estimator-id-13\" class=\"sk-toggleable__label sk-toggleable__label-arrow\">remainder</label><div class=\"sk-toggleable__content\"><pre></pre></div></div></div><div class=\"sk-serial\"><div class=\"sk-item\"><div class=\"sk-estimator sk-toggleable\"><input class=\"sk-toggleable__control sk-hidden--visually\" id=\"sk-estimator-id-14\" type=\"checkbox\" ><label for=\"sk-estimator-id-14\" class=\"sk-toggleable__label sk-toggleable__label-arrow\">passthrough</label><div class=\"sk-toggleable__content\"><pre>passthrough</pre></div></div></div></div></div></div></div></div></div></div>"
            ]
          },
          "metadata": {},
          "execution_count": 282
        }
      ]
    },
    {
      "cell_type": "code",
      "source": [
        "# ajustar ColumnTransformer en los datos de entrenamiento\n",
        "col_transformer.fit(X_train)\n",
        "\n",
        "# transformen los datos de entrenamiento y de prueba (esto generará un array de NumPy)\n",
        "X_train_imputed = col_transformer.transform(X_train)\n",
        "X_test_imputed = col_transformer.transform(X_test)\n",
        "\n",
        "# cambien el resultado regreso a un DataFrame\n",
        "X_train_imputed = pd.DataFrame(X_train_imputed, columns=X_train.columns)"
      ],
      "metadata": {
        "id": "MNSPax1KgZja"
      },
      "execution_count": 283,
      "outputs": []
    },
    {
      "cell_type": "code",
      "source": [
        "# Examinar los datos para garantizar que todos los datos que faltaban estén rellenados\n",
        "X_train_imputed.isna().any()"
      ],
      "metadata": {
        "colab": {
          "base_uri": "https://localhost:8080/"
        },
        "id": "MQCybjGReUgD",
        "outputId": "05553eb1-50a9-4eed-fa69-b8c7700a1dbb"
      },
      "execution_count": 284,
      "outputs": [
        {
          "output_type": "execute_result",
          "data": {
            "text/plain": [
              "LocationAbbr             False\n",
              "Topic                    False\n",
              "Question                 False\n",
              "Data_Value_Unit          False\n",
              "DataValueTypeID          False\n",
              "Data_Value               False\n",
              "Data_Value_Footnote      False\n",
              "Low_Confidence_Limit     False\n",
              "High_Confidence_Limit    False\n",
              "Stratification1          False\n",
              "Stratification2          False\n",
              "TopicID                  False\n",
              "QuestionID               False\n",
              "StratificationID1        False\n",
              "StratificationID2        False\n",
              "dtype: bool"
            ]
          },
          "metadata": {},
          "execution_count": 284
        }
      ]
    },
    {
      "cell_type": "code",
      "source": [
        "X_train_imputed.head(5)"
      ],
      "metadata": {
        "colab": {
          "base_uri": "https://localhost:8080/",
          "height": 617
        },
        "id": "PjYGD-kWg8uU",
        "outputId": "93c4af27-2eaf-4b05-dac0-adf3165a0fdb"
      },
      "execution_count": 286,
      "outputs": [
        {
          "output_type": "execute_result",
          "data": {
            "text/plain": [
              "  LocationAbbr      Topic   Question Data_Value_Unit  \\\n",
              "0         48.1       43.1       53.2              MI   \n",
              "1         80.1       77.3       82.6              MD   \n",
              "2         27.1       25.5       28.8             NRE   \n",
              "3         19.0       15.4       23.3             SOU   \n",
              "4    37.355105  32.730642  42.264772              SC   \n",
              "\n",
              "                                     DataValueTypeID  \\\n",
              "0  Disability status, including sensory or mobili...   \n",
              "1       Self-rated health (good to excellent health)   \n",
              "2  Fair or poor health among older adults with ar...   \n",
              "3  Expect to provide care for someone in the next...   \n",
              "4                      Oral health:  tooth retention   \n",
              "\n",
              "                                          Data_Value Data_Value_Footnote  \\\n",
              "0  Percentage of older adults who report having a...                   %   \n",
              "1  Percentage of older adults who self-reported t...                   %   \n",
              "2  Fair or poor health among older adults with do...                   %   \n",
              "3  Percentage of older adults currently not provi...                   %   \n",
              "4  Percentage of older adults who report having l...                   %   \n",
              "\n",
              "  Low_Confidence_Limit                              High_Confidence_Limit  \\\n",
              "0                PRCTG  Sample size of denominator and/or age group fo...   \n",
              "1                PRCTG  Sample size of denominator and/or age group fo...   \n",
              "2                PRCTG  Sample size of denominator and/or age group fo...   \n",
              "3                PRCTG  Regional estimates may not represent all state...   \n",
              "4                PRCTG  Sample size of denominator and/or age group fo...   \n",
              "\n",
              "     Stratification1         Stratification2 TopicID QuestionID  \\\n",
              "0            Overall     Black, non-Hispanic   TOC10        Q46   \n",
              "1  65 years or older     White, non-Hispanic   TOC08        Q33   \n",
              "2        50-64 years     White, non-Hispanic   TOC13        Q45   \n",
              "3        50-64 years                  Female   TGC02        Q37   \n",
              "4  65 years or older  Asian/Pacific Islander   TOC05        Q07   \n",
              "\n",
              "  StratificationID1 StratificationID2  \n",
              "0       AGE_OVERALL               BLK  \n",
              "1            65PLUS               WHT  \n",
              "2              5064           OVERALL  \n",
              "3              5064            FEMALE  \n",
              "4            65PLUS               ASN  "
            ],
            "text/html": [
              "\n",
              "  <div id=\"df-c76c8167-e9d8-4846-9216-368029b232ef\">\n",
              "    <div class=\"colab-df-container\">\n",
              "      <div>\n",
              "<style scoped>\n",
              "    .dataframe tbody tr th:only-of-type {\n",
              "        vertical-align: middle;\n",
              "    }\n",
              "\n",
              "    .dataframe tbody tr th {\n",
              "        vertical-align: top;\n",
              "    }\n",
              "\n",
              "    .dataframe thead th {\n",
              "        text-align: right;\n",
              "    }\n",
              "</style>\n",
              "<table border=\"1\" class=\"dataframe\">\n",
              "  <thead>\n",
              "    <tr style=\"text-align: right;\">\n",
              "      <th></th>\n",
              "      <th>LocationAbbr</th>\n",
              "      <th>Topic</th>\n",
              "      <th>Question</th>\n",
              "      <th>Data_Value_Unit</th>\n",
              "      <th>DataValueTypeID</th>\n",
              "      <th>Data_Value</th>\n",
              "      <th>Data_Value_Footnote</th>\n",
              "      <th>Low_Confidence_Limit</th>\n",
              "      <th>High_Confidence_Limit</th>\n",
              "      <th>Stratification1</th>\n",
              "      <th>Stratification2</th>\n",
              "      <th>TopicID</th>\n",
              "      <th>QuestionID</th>\n",
              "      <th>StratificationID1</th>\n",
              "      <th>StratificationID2</th>\n",
              "    </tr>\n",
              "  </thead>\n",
              "  <tbody>\n",
              "    <tr>\n",
              "      <th>0</th>\n",
              "      <td>48.1</td>\n",
              "      <td>43.1</td>\n",
              "      <td>53.2</td>\n",
              "      <td>MI</td>\n",
              "      <td>Disability status, including sensory or mobili...</td>\n",
              "      <td>Percentage of older adults who report having a...</td>\n",
              "      <td>%</td>\n",
              "      <td>PRCTG</td>\n",
              "      <td>Sample size of denominator and/or age group fo...</td>\n",
              "      <td>Overall</td>\n",
              "      <td>Black, non-Hispanic</td>\n",
              "      <td>TOC10</td>\n",
              "      <td>Q46</td>\n",
              "      <td>AGE_OVERALL</td>\n",
              "      <td>BLK</td>\n",
              "    </tr>\n",
              "    <tr>\n",
              "      <th>1</th>\n",
              "      <td>80.1</td>\n",
              "      <td>77.3</td>\n",
              "      <td>82.6</td>\n",
              "      <td>MD</td>\n",
              "      <td>Self-rated health (good to excellent health)</td>\n",
              "      <td>Percentage of older adults who self-reported t...</td>\n",
              "      <td>%</td>\n",
              "      <td>PRCTG</td>\n",
              "      <td>Sample size of denominator and/or age group fo...</td>\n",
              "      <td>65 years or older</td>\n",
              "      <td>White, non-Hispanic</td>\n",
              "      <td>TOC08</td>\n",
              "      <td>Q33</td>\n",
              "      <td>65PLUS</td>\n",
              "      <td>WHT</td>\n",
              "    </tr>\n",
              "    <tr>\n",
              "      <th>2</th>\n",
              "      <td>27.1</td>\n",
              "      <td>25.5</td>\n",
              "      <td>28.8</td>\n",
              "      <td>NRE</td>\n",
              "      <td>Fair or poor health among older adults with ar...</td>\n",
              "      <td>Fair or poor health among older adults with do...</td>\n",
              "      <td>%</td>\n",
              "      <td>PRCTG</td>\n",
              "      <td>Sample size of denominator and/or age group fo...</td>\n",
              "      <td>50-64 years</td>\n",
              "      <td>White, non-Hispanic</td>\n",
              "      <td>TOC13</td>\n",
              "      <td>Q45</td>\n",
              "      <td>5064</td>\n",
              "      <td>OVERALL</td>\n",
              "    </tr>\n",
              "    <tr>\n",
              "      <th>3</th>\n",
              "      <td>19.0</td>\n",
              "      <td>15.4</td>\n",
              "      <td>23.3</td>\n",
              "      <td>SOU</td>\n",
              "      <td>Expect to provide care for someone in the next...</td>\n",
              "      <td>Percentage of older adults currently not provi...</td>\n",
              "      <td>%</td>\n",
              "      <td>PRCTG</td>\n",
              "      <td>Regional estimates may not represent all state...</td>\n",
              "      <td>50-64 years</td>\n",
              "      <td>Female</td>\n",
              "      <td>TGC02</td>\n",
              "      <td>Q37</td>\n",
              "      <td>5064</td>\n",
              "      <td>FEMALE</td>\n",
              "    </tr>\n",
              "    <tr>\n",
              "      <th>4</th>\n",
              "      <td>37.355105</td>\n",
              "      <td>32.730642</td>\n",
              "      <td>42.264772</td>\n",
              "      <td>SC</td>\n",
              "      <td>Oral health:  tooth retention</td>\n",
              "      <td>Percentage of older adults who report having l...</td>\n",
              "      <td>%</td>\n",
              "      <td>PRCTG</td>\n",
              "      <td>Sample size of denominator and/or age group fo...</td>\n",
              "      <td>65 years or older</td>\n",
              "      <td>Asian/Pacific Islander</td>\n",
              "      <td>TOC05</td>\n",
              "      <td>Q07</td>\n",
              "      <td>65PLUS</td>\n",
              "      <td>ASN</td>\n",
              "    </tr>\n",
              "  </tbody>\n",
              "</table>\n",
              "</div>\n",
              "      <button class=\"colab-df-convert\" onclick=\"convertToInteractive('df-c76c8167-e9d8-4846-9216-368029b232ef')\"\n",
              "              title=\"Convert this dataframe to an interactive table.\"\n",
              "              style=\"display:none;\">\n",
              "        \n",
              "  <svg xmlns=\"http://www.w3.org/2000/svg\" height=\"24px\"viewBox=\"0 0 24 24\"\n",
              "       width=\"24px\">\n",
              "    <path d=\"M0 0h24v24H0V0z\" fill=\"none\"/>\n",
              "    <path d=\"M18.56 5.44l.94 2.06.94-2.06 2.06-.94-2.06-.94-.94-2.06-.94 2.06-2.06.94zm-11 1L8.5 8.5l.94-2.06 2.06-.94-2.06-.94L8.5 2.5l-.94 2.06-2.06.94zm10 10l.94 2.06.94-2.06 2.06-.94-2.06-.94-.94-2.06-.94 2.06-2.06.94z\"/><path d=\"M17.41 7.96l-1.37-1.37c-.4-.4-.92-.59-1.43-.59-.52 0-1.04.2-1.43.59L10.3 9.45l-7.72 7.72c-.78.78-.78 2.05 0 2.83L4 21.41c.39.39.9.59 1.41.59.51 0 1.02-.2 1.41-.59l7.78-7.78 2.81-2.81c.8-.78.8-2.07 0-2.86zM5.41 20L4 18.59l7.72-7.72 1.47 1.35L5.41 20z\"/>\n",
              "  </svg>\n",
              "      </button>\n",
              "      \n",
              "  <style>\n",
              "    .colab-df-container {\n",
              "      display:flex;\n",
              "      flex-wrap:wrap;\n",
              "      gap: 12px;\n",
              "    }\n",
              "\n",
              "    .colab-df-convert {\n",
              "      background-color: #E8F0FE;\n",
              "      border: none;\n",
              "      border-radius: 50%;\n",
              "      cursor: pointer;\n",
              "      display: none;\n",
              "      fill: #1967D2;\n",
              "      height: 32px;\n",
              "      padding: 0 0 0 0;\n",
              "      width: 32px;\n",
              "    }\n",
              "\n",
              "    .colab-df-convert:hover {\n",
              "      background-color: #E2EBFA;\n",
              "      box-shadow: 0px 1px 2px rgba(60, 64, 67, 0.3), 0px 1px 3px 1px rgba(60, 64, 67, 0.15);\n",
              "      fill: #174EA6;\n",
              "    }\n",
              "\n",
              "    [theme=dark] .colab-df-convert {\n",
              "      background-color: #3B4455;\n",
              "      fill: #D2E3FC;\n",
              "    }\n",
              "\n",
              "    [theme=dark] .colab-df-convert:hover {\n",
              "      background-color: #434B5C;\n",
              "      box-shadow: 0px 1px 3px 1px rgba(0, 0, 0, 0.15);\n",
              "      filter: drop-shadow(0px 1px 2px rgba(0, 0, 0, 0.3));\n",
              "      fill: #FFFFFF;\n",
              "    }\n",
              "  </style>\n",
              "\n",
              "      <script>\n",
              "        const buttonEl =\n",
              "          document.querySelector('#df-c76c8167-e9d8-4846-9216-368029b232ef button.colab-df-convert');\n",
              "        buttonEl.style.display =\n",
              "          google.colab.kernel.accessAllowed ? 'block' : 'none';\n",
              "\n",
              "        async function convertToInteractive(key) {\n",
              "          const element = document.querySelector('#df-c76c8167-e9d8-4846-9216-368029b232ef');\n",
              "          const dataTable =\n",
              "            await google.colab.kernel.invokeFunction('convertToInteractive',\n",
              "                                                     [key], {});\n",
              "          if (!dataTable) return;\n",
              "\n",
              "          const docLinkHtml = 'Like what you see? Visit the ' +\n",
              "            '<a target=\"_blank\" href=https://colab.research.google.com/notebooks/data_table.ipynb>data table notebook</a>'\n",
              "            + ' to learn more about interactive tables.';\n",
              "          element.innerHTML = '';\n",
              "          dataTable['output_type'] = 'display_data';\n",
              "          await google.colab.output.renderOutput(dataTable, element);\n",
              "          const docLink = document.createElement('div');\n",
              "          docLink.innerHTML = docLinkHtml;\n",
              "          element.appendChild(docLink);\n",
              "        }\n",
              "      </script>\n",
              "    </div>\n",
              "  </div>\n",
              "  "
            ]
          },
          "metadata": {},
          "execution_count": 286
        }
      ]
    }
  ]
}